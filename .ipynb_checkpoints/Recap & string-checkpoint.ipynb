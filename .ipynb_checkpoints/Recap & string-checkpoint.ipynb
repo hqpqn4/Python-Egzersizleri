{
 "cells": [
  {
   "cell_type": "markdown",
   "metadata": {},
   "source": [
    "### Veri Tipleri Tekrar"
   ]
  },
  {
   "cell_type": "code",
   "execution_count": 1,
   "metadata": {
    "collapsed": true
   },
   "outputs": [],
   "source": [
    "uzun = 125468462187946"
   ]
  },
  {
   "cell_type": "code",
   "execution_count": 2,
   "metadata": {},
   "outputs": [
    {
     "data": {
      "text/plain": [
       "125468462187946L"
      ]
     },
     "execution_count": 2,
     "metadata": {},
     "output_type": "execute_result"
    }
   ],
   "source": [
    "uzun"
   ]
  },
  {
   "cell_type": "code",
   "execution_count": 3,
   "metadata": {},
   "outputs": [
    {
     "data": {
      "text/plain": [
       "long"
      ]
     },
     "execution_count": 3,
     "metadata": {},
     "output_type": "execute_result"
    }
   ],
   "source": [
    "type(uzun)"
   ]
  },
  {
   "cell_type": "code",
   "execution_count": 4,
   "metadata": {},
   "outputs": [
    {
     "name": "stdout",
     "output_type": "stream",
     "text": [
      "125468462187946\n"
     ]
    }
   ],
   "source": [
    "print uzun"
   ]
  },
  {
   "cell_type": "code",
   "execution_count": 6,
   "metadata": {
    "collapsed": true
   },
   "outputs": [],
   "source": [
    "evli = True\n",
    "bekar = False"
   ]
  },
  {
   "cell_type": "code",
   "execution_count": 7,
   "metadata": {},
   "outputs": [
    {
     "name": "stdout",
     "output_type": "stream",
     "text": [
      "True False\n"
     ]
    }
   ],
   "source": [
    "print evli, bekar"
   ]
  },
  {
   "cell_type": "code",
   "execution_count": 8,
   "metadata": {
    "collapsed": true
   },
   "outputs": [],
   "source": [
    "meyveler = [\"elma\", \"erik\", \"muz\"]"
   ]
  },
  {
   "cell_type": "code",
   "execution_count": 9,
   "metadata": {
    "collapsed": true
   },
   "outputs": [],
   "source": [
    "sayilar = [1,2,3,4,5,6,7,8,9, 0]"
   ]
  },
  {
   "cell_type": "code",
   "execution_count": 11,
   "metadata": {},
   "outputs": [
    {
     "name": "stdout",
     "output_type": "stream",
     "text": [
      "<type 'list'> <type 'list'>\n"
     ]
    }
   ],
   "source": [
    "print type(sayilar), type(meyveler)"
   ]
  },
  {
   "cell_type": "code",
   "execution_count": 17,
   "metadata": {
    "collapsed": true
   },
   "outputs": [],
   "source": [
    "sayi = set(sayilar)"
   ]
  },
  {
   "cell_type": "code",
   "execution_count": 13,
   "metadata": {
    "collapsed": true
   },
   "outputs": [],
   "source": [
    "sayilar = [1,3,4,5,6,2,4,6,7,8,5,7,9,12,3,5,5,7,5,5,7,6,5,2,2,66,89]"
   ]
  },
  {
   "cell_type": "code",
   "execution_count": 14,
   "metadata": {},
   "outputs": [
    {
     "data": {
      "text/plain": [
       "27"
      ]
     },
     "execution_count": 14,
     "metadata": {},
     "output_type": "execute_result"
    }
   ],
   "source": [
    "len(sayilar)"
   ]
  },
  {
   "cell_type": "code",
   "execution_count": 15,
   "metadata": {},
   "outputs": [
    {
     "data": {
      "text/plain": [
       "{1, 2, 3, 4, 5, 6, 7, 8, 9, 12, 66, 89}"
      ]
     },
     "execution_count": 15,
     "metadata": {},
     "output_type": "execute_result"
    }
   ],
   "source": [
    "set(sayilar)"
   ]
  },
  {
   "cell_type": "code",
   "execution_count": 16,
   "metadata": {},
   "outputs": [
    {
     "data": {
      "text/plain": [
       "12"
      ]
     },
     "execution_count": 16,
     "metadata": {},
     "output_type": "execute_result"
    }
   ],
   "source": [
    "len(set(sayilar))"
   ]
  },
  {
   "cell_type": "markdown",
   "metadata": {},
   "source": [
    "### Dict"
   ]
  },
  {
   "cell_type": "code",
   "execution_count": 18,
   "metadata": {
    "collapsed": true
   },
   "outputs": [],
   "source": [
    "ismek = {\"Java\": \"Faik turan\", \"PHP\": \"Mustafa Yilmaz\", \"Bootstrap\": \"Sedat Bozdag\", \"Python\": \"Erkan Unlu\"}"
   ]
  },
  {
   "cell_type": "code",
   "execution_count": 81,
   "metadata": {},
   "outputs": [
    {
     "data": {
      "text/plain": [
       "['Python', 'PHP', 'Java', 'Bootstrap']"
      ]
     },
     "execution_count": 81,
     "metadata": {},
     "output_type": "execute_result"
    }
   ],
   "source": [
    "ismek.keys()"
   ]
  },
  {
   "cell_type": "code",
   "execution_count": 68,
   "metadata": {},
   "outputs": [
    {
     "name": "stdout",
     "output_type": "stream",
     "text": [
      "Kurs adi: Python - Kurs hocasi:  Erkan Unlu\n",
      "Kurs adi: PHP - Kurs hocasi:  Mustafa Yilmaz\n",
      "Kurs adi: Java - Kurs hocasi:  Faik turan\n",
      "Kurs adi: Bootstrap - Kurs hocasi:  Sedat Bozdag\n"
     ]
    }
   ],
   "source": [
    "for i in ismek.items():\n",
    "    print \"Kurs adi:\", i[0],\"-\", \"Kurs hocasi: \", i[1]"
   ]
  },
  {
   "cell_type": "code",
   "execution_count": 69,
   "metadata": {
    "collapsed": true
   },
   "outputs": [],
   "source": [
    "### Hava durumu listesi\n",
    "\n",
    "hava_durumu = {\"Istanbul\": \"Acik ve gunesli\", \"Ankara\":\"Kapali\", \"Izmir\":\"Bol gunesli\"}"
   ]
  },
  {
   "cell_type": "code",
   "execution_count": 71,
   "metadata": {},
   "outputs": [
    {
     "name": "stdout",
     "output_type": "stream",
     "text": [
      "Il: Ankara Hava durumu: Kapali\n",
      "Il: Izmir Hava durumu: Bol gunesli\n",
      "Il: Istanbul Hava durumu: Acik ve gunesli\n"
     ]
    }
   ],
   "source": [
    "for i in hava_durumu.items():\n",
    "    print \"Il:\", i[0], \"Hava durumu:\", i[1]"
   ]
  },
  {
   "cell_type": "code",
   "execution_count": 74,
   "metadata": {},
   "outputs": [
    {
     "name": "stdout",
     "output_type": "stream",
     "text": [
      "Hava durumunu gormek istediginiz il?: Balikesir\n",
      "Gunesli\n"
     ]
    }
   ],
   "source": [
    "# Hava durumu uygulamasi\n",
    "# Durumunu gormek istediginiz sehrin adini girin\n",
    "hava_durumu = {\"Istanbul\": \"Acik ve gunesli\", \"Ankara\":\"Kapali\", \"Izmir\":\"Bol gunesli\", \"Bursa\": \"Yagisli\", \n",
    "               \"Tekirdag\":\"Gunesli\", \"Balikesir\": \"Gunesli\"}\n",
    "soru = raw_input(\"Hava durumunu gormek istediginiz il?: \")\n",
    "\n",
    "print hava_durumu.get(soru, \"Aradiginiz sonuc bulunamadi!\")\n"
   ]
  },
  {
   "cell_type": "code",
   "execution_count": 77,
   "metadata": {},
   "outputs": [
    {
     "name": "stdout",
     "output_type": "stream",
     "text": [
      "(0, 'elma')\n",
      "(1, 'erik')\n",
      "(2, 'muz')\n"
     ]
    }
   ],
   "source": [
    "# enumerate\n",
    "for i in enumerate(meyveler):\n",
    "    print i"
   ]
  },
  {
   "cell_type": "code",
   "execution_count": 79,
   "metadata": {},
   "outputs": [
    {
     "name": "stdout",
     "output_type": "stream",
     "text": [
      "0 ----> elma\n",
      "1 ----> erik\n",
      "2 ----> muz\n"
     ]
    }
   ],
   "source": [
    "# enumerate v2\n",
    "for i,k in enumerate(meyveler):\n",
    "    print i,\"---->\",k"
   ]
  },
  {
   "cell_type": "code",
   "execution_count": 80,
   "metadata": {},
   "outputs": [
    {
     "name": "stdout",
     "output_type": "stream",
     "text": [
      "elma\n",
      "erik\n",
      "muz\n"
     ]
    }
   ],
   "source": [
    "for i in sorted(meyveler):\n",
    "    print i"
   ]
  },
  {
   "cell_type": "code",
   "execution_count": 88,
   "metadata": {},
   "outputs": [
    {
     "data": {
      "text/plain": [
       "['siyah',\n",
       " 'kahve',\n",
       " 'sari',\n",
       " 'yesil',\n",
       " '1000000',\n",
       " 'altin',\n",
       " 'kirmizi',\n",
       " 'gumus',\n",
       " 'turuncu']"
      ]
     },
     "execution_count": 88,
     "metadata": {},
     "output_type": "execute_result"
    }
   ],
   "source": [
    "carpan1.values()"
   ]
  },
  {
   "cell_type": "code",
   "execution_count": 90,
   "metadata": {},
   "outputs": [
    {
     "name": "stdout",
     "output_type": "stream",
     "text": [
      "Bant 1 rengini giriniz: siyah\n"
     ]
    }
   ],
   "source": [
    "# renk direnci hesaplayici\n",
    "bant1 = {\"0\": \"siyah\",\"1\": \"kahve\",\"2\": \"kirmizi\",\"3\": \"turuncu\",\"4\": \"sari\",\"5\": \"yesil\",\"6\": \"mavi\",\"7\": \"mor\", \n",
    "             \"8\": \"gri\", \"9\": \"beyaz\"}\n",
    "bant2 = {\"0\": \"siyah\",\"1\": \"kahve\",\"2\": \"kirmizi\",\"3\": \"turuncu\",\"4\": \"sari\",\"5\": \"yesil\",\"6\": \"mavi\",\"7\": \"mor\", \n",
    "             \"8\": \"gri\", \"9\": \"beyaz\"}\n",
    "carpan1 = {\"1\": \"siyah\",\"10\": \"kahve\",\"100\": \"kirmizi\",\"1000\": \"turuncu\",\"10000\": \"sari\",\"100000\": \"yesil\",\n",
    "               \"6\": \"1000000\",\"0.1\": \"altin\", \"0.01\": \"gumus\"}\n",
    "tolerans1 = {\"0.05\": \"altin\", \"0.01\": \"gumus\", \"0.01\": \"kahve\", \"0.02\":\"kirmizi\"}\n",
    "\n",
    "bant_1 = raw_input(\"Bant 1 rengini giriniz: \")\n",
    "#bant_2 = raw_input(\"Bant 2 rengini giriniz: \")\n",
    "#carpan = raw_input(\"Carpan rengini giriniz: \")\n",
    "#tolerans = raw_input(\"Tolerans rengini giriniz: \")\n",
    "\n",
    "if bant_1 == bant1.values():\n",
    "    carpan_1 = int(bant_1.keys())\n",
    "    print carpan_1\n",
    "    \n",
    "if bant_2 == bant2.values():\n",
    "    carpan_2 = bant2\n",
    "    print carpan_2\n",
    "    \n",
    "if carpan1 == carpan.values():\n",
    "    carpan_3 = carpan1\n",
    "    print carpan_3\n",
    "\n",
    "if tolerans == tolerans1.values():\n",
    "    tolearans_x = tolerans1\n",
    "    print tolerans1\n",
    "\n",
    "\n",
    "\n"
   ]
  },
  {
   "cell_type": "code",
   "execution_count": 137,
   "metadata": {},
   "outputs": [
    {
     "name": "stdout",
     "output_type": "stream",
     "text": [
      "Bant 1 rengini giriniz: kahve\n"
     ]
    }
   ],
   "source": [
    "bant1 = {\"0\": \"siyah\",\"1\": \"kahve\",\"2\": \"kirmizi\",\"3\": \"turuncu\",\"4\": \"sari\",\"5\": \"yesil\",\"6\": \"mavi\",\"7\": \"mor\", \n",
    "             \"8\": \"gri\", \"9\": \"beyaz\"}\n",
    "bant2 = {\"0\": \"siyah\",\"1\": \"kahve\",\"2\": \"kirmizi\",\"3\": \"turuncu\",\"4\": \"sari\",\"5\": \"yesil\",\"6\": \"mavi\",\"7\": \"mor\", \n",
    "             \"8\": \"gri\", \"9\": \"beyaz\"}\n",
    "carpan1 = {\"1\": \"siyah\",\"10\": \"kahve\",\"100\": \"kirmizi\",\"1000\": \"turuncu\",\"10000\": \"sari\",\"100000\": \"yesil\",\n",
    "               \"6\": \"1000000\",\"0.1\": \"altin\", \"0.01\": \"gumus\"}\n",
    "tolerans1 = {\"0.05\": \"altin\", \"0.01\": \"gumus\", \"0.01\": \"kahve\", \"0.02\":\"kirmizi\"}\n",
    "\n",
    "bant_1 = raw_input(\"Bant 1 rengini giriniz: \")\n",
    "#bant_2 = raw_input(\"Bant 2 rengini giriniz: \")\n",
    "#carpan = raw_input(\"Carpan rengini giriniz: \")\n",
    "#tolerans = raw_input(\"Tolerans rengini giriniz: \")\n",
    "\n",
    "if bant_1 == bant1.values():\n",
    "    carpan_1 = bant_1.keys(bant_1)\n",
    "    print carpan_1\n"
   ]
  },
  {
   "cell_type": "code",
   "execution_count": 157,
   "metadata": {},
   "outputs": [
    {
     "name": "stdout",
     "output_type": "stream",
     "text": [
      "Bant 1 rengini giriniz: siyah\n",
      "Bant 2 rengini giriniz: sari\n",
      "Carpan rengini giriniz: mavi\n",
      "Tolerans rengini (altin, gumus, kirmizi, kahve) giriniz: kahve\n",
      "Girilen renk degerlerine gore\n",
      " direnc = 4000000\t Tolerans degeri = +- 2\n"
     ]
    }
   ],
   "source": [
    "renkler = (\"siyah\", \"kahve\", \"kirmizi\", \"turuncu\", \"sari\", \"yesil\", \"mavi\", \"mor\", \"gri\", \"beyaz\")\n",
    "toleranslar = {\"altin\":5, \"gumus\":10, \"kirmizi\":1, \"kahve\":2}\n",
    "\n",
    "bant_1 = raw_input(\"Bant 1 rengini giriniz: \").lower()\n",
    "bant_2 = raw_input(\"Bant 2 rengini giriniz: \").lower()\n",
    "carpan = raw_input(\"Carpan rengini giriniz: \").lower()\n",
    "tolerans = raw_input(\"Tolerans rengini (altin, gumus, kirmizi, kahve) giriniz: \").lower()\n",
    "\n",
    "b1 = renkler.index(bant_1)\n",
    "b2 = renkler.index(bant_2)\n",
    "b3 = renkler.index(carpan)\n",
    "t = toleranslar.get(tolerans)\n",
    "\n",
    "sonuc = (b1 * 10 + b2)* pow(10,b3)\n",
    "\n",
    "print \"Girilen renk degerlerine gore\\n direnc = %d\\t Tolerans degeri = +- %d\" %(sonuc, t)"
   ]
  },
  {
   "cell_type": "code",
   "execution_count": 195,
   "metadata": {
    "collapsed": true
   },
   "outputs": [],
   "source": [
    "a = \"Kursun hedeFi Hali hazirDa PythOn ProGramlama dilini biLen ve kullanan ki\""
   ]
  },
  {
   "cell_type": "code",
   "execution_count": 201,
   "metadata": {},
   "outputs": [
    {
     "data": {
      "text/plain": [
       "'kURSUN HEDEfI hALI HAZIRdA pYTHoN pROgRAMLAMA DILINI BIlEN VE KULLANAN KI'"
      ]
     },
     "execution_count": 201,
     "metadata": {},
     "output_type": "execute_result"
    }
   ],
   "source": [
    "a.swapcase()"
   ]
  },
  {
   "cell_type": "code",
   "execution_count": 203,
   "metadata": {},
   "outputs": [
    {
     "data": {
      "text/plain": [
       "'Kursun hedeFi Hali hazirDa PythOn ProGramlama dilini biLen ve kullanan ki'"
      ]
     },
     "execution_count": 203,
     "metadata": {},
     "output_type": "execute_result"
    }
   ],
   "source": [
    "a.ljust(5,'#')"
   ]
  },
  {
   "cell_type": "code",
   "execution_count": 204,
   "metadata": {},
   "outputs": [
    {
     "data": {
      "text/plain": [
       "'Kursun hedeFi Hali hazirDa PythOn ProGramlama dilini biLen ve kullanan ki'"
      ]
     },
     "execution_count": 204,
     "metadata": {},
     "output_type": "execute_result"
    }
   ],
   "source": [
    "a.rjust(15, '#')"
   ]
  },
  {
   "cell_type": "code",
   "execution_count": 205,
   "metadata": {
    "collapsed": true
   },
   "outputs": [],
   "source": [
    "sayi = \"7\""
   ]
  },
  {
   "cell_type": "code",
   "execution_count": 206,
   "metadata": {},
   "outputs": [
    {
     "data": {
      "text/plain": [
       "'007'"
      ]
     },
     "execution_count": 206,
     "metadata": {},
     "output_type": "execute_result"
    }
   ],
   "source": [
    "sayi.zfill(3)"
   ]
  },
  {
   "cell_type": "code",
   "execution_count": 214,
   "metadata": {},
   "outputs": [
    {
     "data": {
      "text/plain": [
       "False"
      ]
     },
     "execution_count": 214,
     "metadata": {},
     "output_type": "execute_result"
    }
   ],
   "source": [
    "a.isalnum()"
   ]
  },
  {
   "cell_type": "code",
   "execution_count": 215,
   "metadata": {},
   "outputs": [
    {
     "data": {
      "text/plain": [
       "True"
      ]
     },
     "execution_count": 215,
     "metadata": {},
     "output_type": "execute_result"
    }
   ],
   "source": [
    "sayi.isalnum()"
   ]
  },
  {
   "cell_type": "code",
   "execution_count": 218,
   "metadata": {},
   "outputs": [
    {
     "data": {
      "text/plain": [
       "'KursunhedeFiHalihazirDaPythOnProGramlamadilinibiLenvekullananki'"
      ]
     },
     "execution_count": 218,
     "metadata": {},
     "output_type": "execute_result"
    }
   ],
   "source": [
    "a.replace(' ', '')"
   ]
  },
  {
   "cell_type": "code",
   "execution_count": 242,
   "metadata": {
    "collapsed": true
   },
   "outputs": [],
   "source": [
    "cumle = \"Bugün hava çok güzel\""
   ]
  },
  {
   "cell_type": "code",
   "execution_count": 250,
   "metadata": {},
   "outputs": [
    {
     "data": {
      "text/plain": [
       "'Bug\\xc3\\xbcn hava \\xc3\\xa7ok g\\xc3\\xbczel'"
      ]
     },
     "execution_count": 250,
     "metadata": {},
     "output_type": "execute_result"
    }
   ],
   "source": [
    "cumle"
   ]
  },
  {
   "cell_type": "code",
   "execution_count": 243,
   "metadata": {},
   "outputs": [
    {
     "data": {
      "text/plain": [
       "8"
      ]
     },
     "execution_count": 243,
     "metadata": {},
     "output_type": "execute_result"
    }
   ],
   "source": [
    "cumle.find(\"a\")"
   ]
  },
  {
   "cell_type": "code",
   "execution_count": 227,
   "metadata": {
    "collapsed": true
   },
   "outputs": [],
   "source": [
    "cumle = \"Bugun\\thava\\tcok\\tguzel\""
   ]
  },
  {
   "cell_type": "code",
   "execution_count": 241,
   "metadata": {},
   "outputs": [
    {
     "name": "stdout",
     "output_type": "stream",
     "text": [
      "Bugun   hava    cok     guzel\n",
      "Bugun    hava     cok      guzel\n",
      "Bugun     hava      cok       guzel\n",
      "Bugun      hava       cok        guzel\n",
      "Bugun       hava        cok         guzel\n",
      "Bugun        hava         cok          guzel\n"
     ]
    }
   ],
   "source": [
    "for i in range(8, 14):\n",
    "    print cumle.expandtabs(i)"
   ]
  },
  {
   "cell_type": "code",
   "execution_count": 231,
   "metadata": {},
   "outputs": [
    {
     "data": {
      "text/plain": [
       "'Bugun   hava    cok     guzel'"
      ]
     },
     "execution_count": 231,
     "metadata": {},
     "output_type": "execute_result"
    }
   ],
   "source": [
    "cumle.expandtabs(8)"
   ]
  },
  {
   "cell_type": "code",
   "execution_count": 255,
   "metadata": {},
   "outputs": [
    {
     "data": {
      "text/plain": [
       "4"
      ]
     },
     "execution_count": 255,
     "metadata": {},
     "output_type": "execute_result"
    }
   ],
   "source": [
    "cumle.index(\"ü\") + 1"
   ]
  },
  {
   "cell_type": "code",
   "execution_count": 264,
   "metadata": {},
   "outputs": [
    {
     "data": {
      "text/plain": [
       "'Bug\\xc3\\xbcn hava \\xc3\\xa7ok g\\xc3\\xbczel'"
      ]
     },
     "execution_count": 264,
     "metadata": {},
     "output_type": "execute_result"
    }
   ],
   "source": [
    "cumle"
   ]
  }
 ],
 "metadata": {
  "kernelspec": {
   "display_name": "Python [conda root]",
   "language": "python",
   "name": "conda-root-py"
  },
  "language_info": {
   "codemirror_mode": {
    "name": "ipython",
    "version": 2
   },
   "file_extension": ".py",
   "mimetype": "text/x-python",
   "name": "python",
   "nbconvert_exporter": "python",
   "pygments_lexer": "ipython2",
   "version": "2.7.14"
  }
 },
 "nbformat": 4,
 "nbformat_minor": 2
}
