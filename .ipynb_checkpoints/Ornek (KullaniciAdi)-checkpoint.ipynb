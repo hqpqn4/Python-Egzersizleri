{
 "cells": [
  {
   "cell_type": "code",
   "execution_count": 1,
   "metadata": {
    "scrolled": true
   },
   "outputs": [
    {
     "name": "stdout",
     "output_type": "stream",
     "text": [
      "Kullanici Adiniz: EG\n",
      "Sifre: 12345\n",
      "Sisteme giris yaptiniz.\n"
     ]
    }
   ],
   "source": [
    "# input & raw input ornegi\n",
    "#while ile 3 denemeyi sinirlama\n",
    "deneme_sayisi = 1\n",
    "while deneme_sayisi < 4:\n",
    "    kullaniciAdi = raw_input(\"Kullanici Adiniz: \")\n",
    "    sifre = raw_input(\"Sifre: \")\n",
    "    if kullaniciAdi == \"EG\":\n",
    "        if sifre == \"12345\":\n",
    "            print(\"Sisteme giris yaptiniz.\")\n",
    "            break\n",
    "        elif sifre == \"\":\n",
    "            print(\"Sifre bos olamaz!\")\n",
    "        else:\n",
    "            print(\"Kullanici adiniz veya sifreniz hatali. Tekrar deneyin!\")\n",
    "            deneme_sayisi = deneme_sayisi + 1\n",
    "\n",
    "    elif kullaniciAdi == \"\":        \n",
    "        print(\"Kullanici adi bos olamaz!\")\n",
    "        deneme_sayisi = deneme_sayisi + 1"
   ]
  },
  {
   "cell_type": "code",
   "execution_count": null,
   "metadata": {
    "collapsed": true
   },
   "outputs": [],
   "source": []
  },
  {
   "cell_type": "code",
   "execution_count": null,
   "metadata": {
    "collapsed": true
   },
   "outputs": [],
   "source": []
  }
 ],
 "metadata": {
  "kernelspec": {
   "display_name": "Python [conda root]",
   "language": "python",
   "name": "conda-root-py"
  },
  "language_info": {
   "codemirror_mode": {
    "name": "ipython",
    "version": 2
   },
   "file_extension": ".py",
   "mimetype": "text/x-python",
   "name": "python",
   "nbconvert_exporter": "python",
   "pygments_lexer": "ipython2",
   "version": "2.7.14"
  }
 },
 "nbformat": 4,
 "nbformat_minor": 2
}
