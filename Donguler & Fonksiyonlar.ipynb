{
 "cells": [
  {
   "cell_type": "code",
   "execution_count": 3,
   "metadata": {},
   "outputs": [
    {
     "data": {
      "text/plain": [
       "[1, 2, 3, 4, 5, 6, 7, 8, 9]"
      ]
     },
     "execution_count": 3,
     "metadata": {},
     "output_type": "execute_result"
    }
   ],
   "source": [
    "range(1,10)"
   ]
  },
  {
   "cell_type": "code",
   "execution_count": 4,
   "metadata": {},
   "outputs": [
    {
     "data": {
      "text/plain": [
       "xrange(1, 10)"
      ]
     },
     "execution_count": 4,
     "metadata": {},
     "output_type": "execute_result"
    }
   ],
   "source": [
    "xrange(1,10)"
   ]
  },
  {
   "cell_type": "code",
   "execution_count": 6,
   "metadata": {},
   "outputs": [
    {
     "name": "stdout",
     "output_type": "stream",
     "text": [
      "1 2 3 4 5 6 7 8 9\n"
     ]
    }
   ],
   "source": [
    "for i in xrange(1,10):\n",
    "    print i,"
   ]
  },
  {
   "cell_type": "code",
   "execution_count": 11,
   "metadata": {},
   "outputs": [
    {
     "name": "stdout",
     "output_type": "stream",
     "text": [
      "0 2 4 6 8\n"
     ]
    }
   ],
   "source": [
    "for i in xrange(0,30,2):\n",
    "    if i == 10:\n",
    "        break\n",
    "    else:\n",
    "        print i,"
   ]
  },
  {
   "cell_type": "code",
   "execution_count": 13,
   "metadata": {},
   "outputs": [
    {
     "name": "stdout",
     "output_type": "stream",
     "text": [
      "0 2 4 6 8 12 14 16 18 20 22 24 26 28 Bitti...\n"
     ]
    }
   ],
   "source": [
    "for i in xrange(0,30,2):\n",
    "    if i == 10:\n",
    "        continue\n",
    "    else:\n",
    "        print i,\n",
    "else:\n",
    "    print \"Bitti...\""
   ]
  },
  {
   "cell_type": "code",
   "execution_count": 15,
   "metadata": {
    "collapsed": true
   },
   "outputs": [],
   "source": [
    "sozluk = {\"A\":{\"Notu\":\"50\"}, \"B\" : {\"Notu\": \"60\"}}"
   ]
  },
  {
   "cell_type": "code",
   "execution_count": 24,
   "metadata": {},
   "outputs": [
    {
     "name": "stdout",
     "output_type": "stream",
     "text": [
      "A {'Notu': '50'}\n",
      "B {'Notu': '60'}\n"
     ]
    }
   ],
   "source": [
    "for i,j in sozluk.items():\n",
    "    print i,j"
   ]
  },
  {
   "cell_type": "code",
   "execution_count": 25,
   "metadata": {},
   "outputs": [
    {
     "name": "stdout",
     "output_type": "stream",
     "text": [
      "{'Notu': '50'}\n",
      "{'Notu': '60'}\n"
     ]
    }
   ],
   "source": [
    "for i in sozluk.values():\n",
    "    print i"
   ]
  },
  {
   "cell_type": "code",
   "execution_count": 26,
   "metadata": {
    "collapsed": true
   },
   "outputs": [],
   "source": [
    "# toplama fonksiyonlari\n",
    "\n",
    "def topla(sayi1, sayi2):\n",
    "    print sayi1 + sayi2"
   ]
  },
  {
   "cell_type": "code",
   "execution_count": 27,
   "metadata": {},
   "outputs": [
    {
     "name": "stdout",
     "output_type": "stream",
     "text": [
      "8\n"
     ]
    }
   ],
   "source": [
    "topla(3,5)"
   ]
  },
  {
   "cell_type": "code",
   "execution_count": 28,
   "metadata": {
    "collapsed": true
   },
   "outputs": [],
   "source": [
    "def carp (s1, s2):\n",
    "    carpim = s1 * s2\n",
    "    return carpim"
   ]
  },
  {
   "cell_type": "code",
   "execution_count": 29,
   "metadata": {},
   "outputs": [
    {
     "data": {
      "text/plain": [
       "48"
      ]
     },
     "execution_count": 29,
     "metadata": {},
     "output_type": "execute_result"
    }
   ],
   "source": [
    "carp(12,4)"
   ]
  },
  {
   "cell_type": "code",
   "execution_count": 32,
   "metadata": {},
   "outputs": [
    {
     "name": "stdout",
     "output_type": "stream",
     "text": [
      "15\n",
      "38\n",
      "19\n"
     ]
    }
   ],
   "source": [
    "# global ile sonuc cikama\n",
    "a = 15\n",
    "def topla(s1, s2):\n",
    "    global a\n",
    "    a = a + 23\n",
    "    print a\n",
    "    return s1 + s2\n",
    "print a\n",
    "print topla(13, 6)"
   ]
  },
  {
   "cell_type": "code",
   "execution_count": 34,
   "metadata": {},
   "outputs": [
    {
     "name": "stdout",
     "output_type": "stream",
     "text": [
      "15\n",
      "38\n",
      "19 43\n"
     ]
    }
   ],
   "source": [
    "# return ile birden fazla deger dondurme\n",
    "a = 15\n",
    "def topla(s1, s2):\n",
    "    global a\n",
    "    a = a + 23\n",
    "    print a\n",
    "    return s1 + s2, a + 5\n",
    "print a\n",
    "b1, b2 = topla(13, 6)\n",
    "print b1, b2"
   ]
  },
  {
   "cell_type": "code",
   "execution_count": 36,
   "metadata": {},
   "outputs": [
    {
     "name": "stdout",
     "output_type": "stream",
     "text": [
      "1\n"
     ]
    }
   ],
   "source": [
    "def fib(n):\n",
    "    a,b = 1,1\n",
    "    for i in range(n-1):\n",
    "        a,b = b,a+b\n",
    "        return a\n",
    "print fib(5)"
   ]
  },
  {
   "cell_type": "code",
   "execution_count": 54,
   "metadata": {},
   "outputs": [
    {
     "name": "stdout",
     "output_type": "stream",
     "text": [
      "Kaca kadar: 10\n",
      "1\n",
      "1\n",
      "2\n",
      "3\n",
      "5\n",
      "8\n",
      "13\n",
      "21\n",
      "34\n",
      "55\n"
     ]
    }
   ],
   "source": [
    "n = input(\"Kaca kadar: \")\n",
    "a,b = 0,1\n",
    "for i in range(n):\n",
    "    a,b = b, a+b\n",
    "    print a"
   ]
  },
  {
   "cell_type": "code",
   "execution_count": null,
   "metadata": {
    "collapsed": true
   },
   "outputs": [],
   "source": [
    "def toplama(*args):\n",
    "    "
   ]
  },
  {
   "cell_type": "code",
   "execution_count": 68,
   "metadata": {
    "collapsed": true
   },
   "outputs": [],
   "source": [
    "def koklusayilar(s,d=1):\n",
    "    return s ** (1.0/d)"
   ]
  },
  {
   "cell_type": "code",
   "execution_count": 69,
   "metadata": {},
   "outputs": [
    {
     "data": {
      "text/plain": [
       "8.0"
      ]
     },
     "execution_count": 69,
     "metadata": {},
     "output_type": "execute_result"
    }
   ],
   "source": [
    "koklusayilar(64,2)"
   ]
  },
  {
   "cell_type": "code",
   "execution_count": 77,
   "metadata": {
    "collapsed": true
   },
   "outputs": [],
   "source": [
    "def cember(r):\n",
    "    pi = 3.14\n",
    "    cevre = 2 * pi * r\n",
    "    alan = pi * (r ** 2)\n",
    "    return cevre, alan"
   ]
  },
  {
   "cell_type": "code",
   "execution_count": 78,
   "metadata": {},
   "outputs": [
    {
     "data": {
      "text/plain": [
       "(18.84, 28.26)"
      ]
     },
     "execution_count": 78,
     "metadata": {},
     "output_type": "execute_result"
    }
   ],
   "source": [
    "cember(3)"
   ]
  },
  {
   "cell_type": "code",
   "execution_count": 80,
   "metadata": {},
   "outputs": [
    {
     "name": "stdout",
     "output_type": "stream",
     "text": [
      "r degerini giriniz: 5\n",
      "(31.400000000000002, 78.5)\n"
     ]
    }
   ],
   "source": [
    "print cember(input(\"r degerini giriniz: \"))"
   ]
  },
  {
   "cell_type": "code",
   "execution_count": 81,
   "metadata": {
    "collapsed": true
   },
   "outputs": [],
   "source": []
  },
  {
   "cell_type": "code",
   "execution_count": 12,
   "metadata": {
    "scrolled": true
   },
   "outputs": [
    {
     "name": "stdout",
     "output_type": "stream",
     "text": [
      "Kac basamak?: 5\n",
      "1 \n",
      "1 1 \n",
      "1 2 1 \n",
      "1 3 3 1 \n",
      "1 4 6 4 1 \n",
      "1 5 10 10 5 1 \n"
     ]
    }
   ],
   "source": [
    "# pascal ucgeni\n",
    "\n",
    "basamak = input(\"Kac basamak?: \")\n",
    "def comb(n,r):\n",
    "    from math import factorial\n",
    "    kombinasyon = factorial(n) / (factorial(n-r) * factorial(r))\n",
    "    return kombinasyon\n",
    "for i in range(0, basamak+1):\n",
    "    for j in range(i + 1):\n",
    "        print comb(i,j),\n",
    "    print \"\""
   ]
  },
  {
   "cell_type": "code",
   "execution_count": 6,
   "metadata": {},
   "outputs": [
    {
     "data": {
      "text/plain": [
       "10"
      ]
     },
     "execution_count": 6,
     "metadata": {},
     "output_type": "execute_result"
    }
   ],
   "source": [
    "comb(5,2)"
   ]
  },
  {
   "cell_type": "code",
   "execution_count": 41,
   "metadata": {},
   "outputs": [],
   "source": [
    "# (x + y)^n hesaplayan fonksiyon\n",
    "\n",
    "def comb(n,r):\n",
    "    from math import factorial\n",
    "    kombinasyon = factorial(n) / (factorial(n-r) * factorial(r))\n",
    "    return kombinasyon\n",
    "\n",
    "\n",
    "def ekranaYazdir(x,y,n):\n",
    "    sayac = 0\n",
    "    for j in range(n+1):\n",
    "        if j == 0:\n",
    "            print \"x^\" + str(n) + \" +\",\n",
    "        elif j == n:\n",
    "                print \"y^\" + str(n) + \" =\",\n",
    "        else:\n",
    "                print comb(n,j), \"x^\", n - sayac, \"y^\", sayac, \"+\", \n",
    "        sayac = sayac + 1\n",
    "    sayac = 0\n",
    "    for j in range(n+1):\n",
    "        if j == 0:\n",
    "            print str(x) + \"^\" + str(n) + \"+\",\n",
    "        elif j == n:\n",
    "                print str(y) + \"+\" + str(n) + \" =\",\n",
    "        else:\n",
    "                print comb(n,j) + \".\" + str(x) + \"^\", str(n - sayac), \".\" + \".\" + str(y) + \"^\", str(sayac), \"^\", \n",
    "        sayac = sayac + 1\n",
    "        print (x + y) ** n\n",
    "        return (x+y)**n"
   ]
  },
  {
   "cell_type": "code",
   "execution_count": 42,
   "metadata": {},
   "outputs": [
    {
     "name": "stdout",
     "output_type": "stream",
     "text": [
      "x^3 + 3 x^ 2 y^ 1 + 3 x^ 1 y^ 2 + y^3 = 2^3+ 125\n"
     ]
    },
    {
     "data": {
      "text/plain": [
       "125"
      ]
     },
     "execution_count": 42,
     "metadata": {},
     "output_type": "execute_result"
    }
   ],
   "source": [
    "ekranaYazdir(2,3,3)"
   ]
  },
  {
   "cell_type": "code",
   "execution_count": null,
   "metadata": {
    "collapsed": true
   },
   "outputs": [],
   "source": [
    "# lambda fonksiyonlari\n",
    "lambda"
   ]
  },
  {
   "cell_type": "code",
   "execution_count": null,
   "metadata": {
    "collapsed": true
   },
   "outputs": [],
   "source": [
    "# reduce\n",
    "\n",
    "reduce()\n",
    "\n",
    "# map\n",
    "\n",
    "map(function_to_apply, list_of_inputs)\n",
    "\n",
    "# filter\n",
    "\n",
    "filter()"
   ]
  },
  {
   "cell_type": "code",
   "execution_count": 45,
   "metadata": {
    "collapsed": true
   },
   "outputs": [],
   "source": [
    "# recursive fonksiyonlar\n",
    "# fonskiyon icinde ayni fonksiyonu cagirma\n",
    "\n",
    "def fac(n):\n",
    "    if n == 1:\n",
    "        print \"n =\", n\n",
    "        return n\n",
    "    else:\n",
    "        print n * fac(n-1),\n",
    "        return n * fac(n-1)"
   ]
  },
  {
   "cell_type": "code",
   "execution_count": 47,
   "metadata": {
    "scrolled": true
   },
   "outputs": [
    {
     "name": "stdout",
     "output_type": "stream",
     "text": [
      "n = 1\n",
      "2 n = 1\n",
      "6 n = 1\n",
      "2 n = 1\n",
      "24 n = 1\n",
      "2 n = 1\n",
      "6 n = 1\n",
      "2 n = 1\n",
      "120 n = 1\n",
      "2 n = 1\n",
      "6 n = 1\n",
      "2 n = 1\n",
      "24 n = 1\n",
      "2 n = 1\n",
      "6 n = 1\n",
      "2 n = 1\n"
     ]
    },
    {
     "data": {
      "text/plain": [
       "120"
      ]
     },
     "execution_count": 47,
     "metadata": {},
     "output_type": "execute_result"
    }
   ],
   "source": [
    "fac(5)"
   ]
  },
  {
   "cell_type": "code",
   "execution_count": 58,
   "metadata": {
    "collapsed": true
   },
   "outputs": [],
   "source": [
    "def fib(n):\n",
    "    if n == 1 or n == 2:\n",
    "        return 1\n",
    "    else:\n",
    "        return fib(n-1) + fib(n-2)"
   ]
  },
  {
   "cell_type": "code",
   "execution_count": 62,
   "metadata": {},
   "outputs": [
    {
     "data": {
      "text/plain": [
       "13"
      ]
     },
     "execution_count": 62,
     "metadata": {},
     "output_type": "execute_result"
    }
   ],
   "source": [
    "fib(7)"
   ]
  },
  {
   "cell_type": "code",
   "execution_count": 71,
   "metadata": {
    "collapsed": true
   },
   "outputs": [],
   "source": [
    "def test(x):\n",
    "    s = True\n",
    "    for i in range(len(x)):\n",
    "        if x[i] == x[-i-1]:\n",
    "            print \"Dogru\", i\n",
    "        else:\n",
    "            print \"Yanlis\", i\n",
    "            s = False\n",
    "            break\n",
    "    return s"
   ]
  },
  {
   "cell_type": "code",
   "execution_count": 74,
   "metadata": {},
   "outputs": [
    {
     "name": "stdout",
     "output_type": "stream",
     "text": [
      "Dogru 0\n",
      "Dogru 1\n",
      "Dogru 2\n",
      "Dogru 3\n",
      "Dogru 4\n",
      "Dogru 5\n"
     ]
    },
    {
     "data": {
      "text/plain": [
       "True"
      ]
     },
     "execution_count": 74,
     "metadata": {},
     "output_type": "execute_result"
    }
   ],
   "source": [
    "test(\"kulluk\")"
   ]
  },
  {
   "cell_type": "code",
   "execution_count": 77,
   "metadata": {},
   "outputs": [],
   "source": [
    "def pal(yazi):\n",
    "    if yazi[0] != yazi[-i]:\n",
    "        return False\n",
    "    else:\n",
    "        if len(yazi) == 1 or len(yazi) == 2:\n",
    "            return True\n",
    "        else:\n",
    "            return pal(yazi[1:-1])"
   ]
  },
  {
   "cell_type": "code",
   "execution_count": 78,
   "metadata": {},
   "outputs": [
    {
     "ename": "IndexError",
     "evalue": "string index out of range",
     "output_type": "error",
     "traceback": [
      "\u001b[1;31m---------------------------------------------------------------------------\u001b[0m",
      "\u001b[1;31mIndexError\u001b[0m                                Traceback (most recent call last)",
      "\u001b[1;32m<ipython-input-78-300537eef290>\u001b[0m in \u001b[0;36m<module>\u001b[1;34m()\u001b[0m\n\u001b[1;32m----> 1\u001b[1;33m \u001b[0mpal\u001b[0m\u001b[1;33m(\u001b[0m\u001b[1;34m\"kucuk\"\u001b[0m\u001b[1;33m)\u001b[0m\u001b[1;33m\u001b[0m\u001b[0m\n\u001b[0m",
      "\u001b[1;32m<ipython-input-77-ab2b6f5af9f6>\u001b[0m in \u001b[0;36mpal\u001b[1;34m(yazi)\u001b[0m\n\u001b[0;32m      6\u001b[0m             \u001b[1;32mreturn\u001b[0m \u001b[0mTrue\u001b[0m\u001b[1;33m\u001b[0m\u001b[0m\n\u001b[0;32m      7\u001b[0m         \u001b[1;32melse\u001b[0m\u001b[1;33m:\u001b[0m\u001b[1;33m\u001b[0m\u001b[0m\n\u001b[1;32m----> 8\u001b[1;33m             \u001b[1;32mreturn\u001b[0m \u001b[0mpal\u001b[0m\u001b[1;33m(\u001b[0m\u001b[0myazi\u001b[0m\u001b[1;33m[\u001b[0m\u001b[1;36m1\u001b[0m\u001b[1;33m:\u001b[0m\u001b[1;33m-\u001b[0m\u001b[1;36m1\u001b[0m\u001b[1;33m]\u001b[0m\u001b[1;33m)\u001b[0m\u001b[1;33m\u001b[0m\u001b[0m\n\u001b[0m",
      "\u001b[1;32m<ipython-input-77-ab2b6f5af9f6>\u001b[0m in \u001b[0;36mpal\u001b[1;34m(yazi)\u001b[0m\n\u001b[0;32m      1\u001b[0m \u001b[1;32mdef\u001b[0m \u001b[0mpal\u001b[0m\u001b[1;33m(\u001b[0m\u001b[0myazi\u001b[0m\u001b[1;33m)\u001b[0m\u001b[1;33m:\u001b[0m\u001b[1;33m\u001b[0m\u001b[0m\n\u001b[1;32m----> 2\u001b[1;33m     \u001b[1;32mif\u001b[0m \u001b[0myazi\u001b[0m\u001b[1;33m[\u001b[0m\u001b[1;36m0\u001b[0m\u001b[1;33m]\u001b[0m \u001b[1;33m!=\u001b[0m \u001b[0myazi\u001b[0m\u001b[1;33m[\u001b[0m\u001b[1;33m-\u001b[0m\u001b[0mi\u001b[0m\u001b[1;33m]\u001b[0m\u001b[1;33m:\u001b[0m\u001b[1;33m\u001b[0m\u001b[0m\n\u001b[0m\u001b[0;32m      3\u001b[0m         \u001b[1;32mreturn\u001b[0m \u001b[0mFalse\u001b[0m\u001b[1;33m\u001b[0m\u001b[0m\n\u001b[0;32m      4\u001b[0m     \u001b[1;32melse\u001b[0m\u001b[1;33m:\u001b[0m\u001b[1;33m\u001b[0m\u001b[0m\n\u001b[0;32m      5\u001b[0m         \u001b[1;32mif\u001b[0m \u001b[0mlen\u001b[0m\u001b[1;33m(\u001b[0m\u001b[0myazi\u001b[0m\u001b[1;33m)\u001b[0m \u001b[1;33m==\u001b[0m \u001b[1;36m1\u001b[0m \u001b[1;32mor\u001b[0m \u001b[0mlen\u001b[0m\u001b[1;33m(\u001b[0m\u001b[0myazi\u001b[0m\u001b[1;33m)\u001b[0m \u001b[1;33m==\u001b[0m \u001b[1;36m2\u001b[0m\u001b[1;33m:\u001b[0m\u001b[1;33m\u001b[0m\u001b[0m\n",
      "\u001b[1;31mIndexError\u001b[0m: string index out of range"
     ]
    }
   ],
   "source": [
    "pal(\"kucuk\")"
   ]
  },
  {
   "cell_type": "code",
   "execution_count": null,
   "metadata": {
    "collapsed": true
   },
   "outputs": [],
   "source": []
  }
 ],
 "metadata": {
  "kernelspec": {
   "display_name": "Python [conda root]",
   "language": "python",
   "name": "conda-root-py"
  },
  "language_info": {
   "codemirror_mode": {
    "name": "ipython",
    "version": 2
   },
   "file_extension": ".py",
   "mimetype": "text/x-python",
   "name": "python",
   "nbconvert_exporter": "python",
   "pygments_lexer": "ipython2",
   "version": "2.7.14"
  }
 },
 "nbformat": 4,
 "nbformat_minor": 2
}
