{
 "cells": [
  {
   "cell_type": "code",
   "execution_count": 1,
   "metadata": {
    "collapsed": true
   },
   "outputs": [],
   "source": [
    "import sys"
   ]
  },
  {
   "cell_type": "code",
   "execution_count": 2,
   "metadata": {},
   "outputs": [
    {
     "data": {
      "text/plain": [
       "['C:\\\\Users\\\\lenovo\\\\Anaconda2\\\\lib\\\\site-packages\\\\ipykernel\\\\__main__.py',\n",
       " '-f',\n",
       " 'C:\\\\Users\\\\lenovo\\\\AppData\\\\Roaming\\\\jupyter\\\\runtime\\\\kernel-6ba5e2e8-e5ac-470e-8340-e144eeed7187.json']"
      ]
     },
     "execution_count": 2,
     "metadata": {},
     "output_type": "execute_result"
    }
   ],
   "source": [
    "sys.argv"
   ]
  },
  {
   "cell_type": "code",
   "execution_count": 3,
   "metadata": {},
   "outputs": [
    {
     "name": "stdout",
     "output_type": "stream",
     "text": [
      "Help on built-in module sys:\n",
      "\n",
      "NAME\n",
      "    sys\n",
      "\n",
      "FILE\n",
      "    (built-in)\n",
      "\n",
      "MODULE DOCS\n",
      "    https://docs.python.org/library/sys\n",
      "\n",
      "DESCRIPTION\n",
      "    This module provides access to some objects used or maintained by the\n",
      "    interpreter and to functions that interact strongly with the interpreter.\n",
      "    \n",
      "    Dynamic objects:\n",
      "    \n",
      "    argv -- command line arguments; argv[0] is the script pathname if known\n",
      "    path -- module search path; path[0] is the script directory, else ''\n",
      "    modules -- dictionary of loaded modules\n",
      "    \n",
      "    displayhook -- called to show results in an interactive session\n",
      "    excepthook -- called to handle any uncaught exception other than SystemExit\n",
      "      To customize printing in an interactive session or to install a custom\n",
      "      top-level exception handler, assign other functions to replace these.\n",
      "    \n",
      "    exitfunc -- if sys.exitfunc exists, this routine is called when Python exits\n",
      "      Assigning to sys.exitfunc is deprecated; use the atexit module instead.\n",
      "    \n",
      "    stdin -- standard input file object; used by raw_input() and input()\n",
      "    stdout -- standard output file object; used by the print statement\n",
      "    stderr -- standard error object; used for error messages\n",
      "      By assigning other file objects (or objects that behave like files)\n",
      "      to these, it is possible to redirect all of the interpreter's I/O.\n",
      "    \n",
      "    last_type -- type of last uncaught exception\n",
      "    last_value -- value of last uncaught exception\n",
      "    last_traceback -- traceback of last uncaught exception\n",
      "      These three are only available in an interactive session after a\n",
      "      traceback has been printed.\n",
      "    \n",
      "    exc_type -- type of exception currently being handled\n",
      "    exc_value -- value of exception currently being handled\n",
      "    exc_traceback -- traceback of exception currently being handled\n",
      "      The function exc_info() should be used instead of these three,\n",
      "      because it is thread-safe.\n",
      "    \n",
      "    Static objects:\n",
      "    \n",
      "    float_info -- a dict with information about the float inplementation.\n",
      "    long_info -- a struct sequence with information about the long implementation.\n",
      "    maxint -- the largest supported integer (the smallest is -maxint-1)\n",
      "    maxsize -- the largest supported length of containers.\n",
      "    maxunicode -- the largest supported character\n",
      "    builtin_module_names -- tuple of module names built into this interpreter\n",
      "    version -- the version of this interpreter as a string\n",
      "    version_info -- version information as a named tuple\n",
      "    hexversion -- version information encoded as a single integer\n",
      "    copyright -- copyright notice pertaining to this interpreter\n",
      "    platform -- platform identifier\n",
      "    executable -- absolute path of the executable binary of the Python interpreter\n",
      "    prefix -- prefix used to find the Python library\n",
      "    exec_prefix -- prefix used to find the machine-specific Python library\n",
      "    float_repr_style -- string indicating the style of repr() output for floats\n",
      "    dllhandle -- [Windows only] integer handle of the Python DLL\n",
      "    winver -- [Windows only] version number of the Python DLL\n",
      "    __stdin__ -- the original stdin; don't touch!\n",
      "    __stdout__ -- the original stdout; don't touch!\n",
      "    __stderr__ -- the original stderr; don't touch!\n",
      "    __displayhook__ -- the original displayhook; don't touch!\n",
      "    __excepthook__ -- the original excepthook; don't touch!\n",
      "    \n",
      "    Functions:\n",
      "    \n",
      "    displayhook() -- print an object to the screen, and save it in __builtin__._\n",
      "    excepthook() -- print an exception and its traceback to sys.stderr\n",
      "    exc_info() -- return thread-safe information about the current exception\n",
      "    exc_clear() -- clear the exception state for the current thread\n",
      "    exit() -- exit the interpreter by raising SystemExit\n",
      "    getdlopenflags() -- returns flags to be used for dlopen() calls\n",
      "    getprofile() -- get the global profiling function\n",
      "    getrefcount() -- return the reference count for an object (plus one :-)\n",
      "    getrecursionlimit() -- return the max recursion depth for the interpreter\n",
      "    getsizeof() -- return the size of an object in bytes\n",
      "    gettrace() -- get the global debug tracing function\n",
      "    setcheckinterval() -- control how often the interpreter checks for events\n",
      "    setdlopenflags() -- set the flags to be used for dlopen() calls\n",
      "    setprofile() -- set the global profiling function\n",
      "    setrecursionlimit() -- set the max recursion depth for the interpreter\n",
      "    settrace() -- set the global debug tracing function\n",
      "\n",
      "FUNCTIONS\n",
      "    __displayhook__ = displayhook(...)\n",
      "        displayhook(object) -> None\n",
      "        \n",
      "        Print an object to sys.stdout and also save it in __builtin__._\n",
      "    \n",
      "    __excepthook__ = excepthook(...)\n",
      "        excepthook(exctype, value, traceback) -> None\n",
      "        \n",
      "        Handle an exception by displaying it with a traceback on sys.stderr.\n",
      "    \n",
      "    call_tracing(...)\n",
      "        call_tracing(func, args) -> object\n",
      "        \n",
      "        Call func(*args), while tracing is enabled.  The tracing state is\n",
      "        saved, and restored afterwards.  This is intended to be called from\n",
      "        a debugger from a checkpoint, to recursively debug some other code.\n",
      "    \n",
      "    callstats(...)\n",
      "        callstats() -> tuple of integers\n",
      "        \n",
      "        Return a tuple of function call statistics, if CALL_PROFILE was defined\n",
      "        when Python was built.  Otherwise, return None.\n",
      "        \n",
      "        When enabled, this function returns detailed, implementation-specific\n",
      "        details about the number of function calls executed. The return value is\n",
      "        a 11-tuple where the entries in the tuple are counts of:\n",
      "        0. all function calls\n",
      "        1. calls to PyFunction_Type objects\n",
      "        2. PyFunction calls that do not create an argument tuple\n",
      "        3. PyFunction calls that do not create an argument tuple\n",
      "           and bypass PyEval_EvalCodeEx()\n",
      "        4. PyMethod calls\n",
      "        5. PyMethod calls on bound methods\n",
      "        6. PyType calls\n",
      "        7. PyCFunction calls\n",
      "        8. generator calls\n",
      "        9. All other calls\n",
      "        10. Number of stack pops performed by call_function()\n",
      "    \n",
      "    exc_clear(...)\n",
      "        exc_clear() -> None\n",
      "        \n",
      "        Clear global information on the current exception.  Subsequent calls to\n",
      "        exc_info() will return (None,None,None) until another exception is raised\n",
      "        in the current thread or the execution stack returns to a frame where\n",
      "        another exception is being handled.\n",
      "    \n",
      "    exc_info(...)\n",
      "        exc_info() -> (type, value, traceback)\n",
      "        \n",
      "        Return information about the most recent exception caught by an except\n",
      "        clause in the current stack frame or in an older stack frame.\n",
      "    \n",
      "    exit(...)\n",
      "        exit([status])\n",
      "        \n",
      "        Exit the interpreter by raising SystemExit(status).\n",
      "        If the status is omitted or None, it defaults to zero (i.e., success).\n",
      "        If the status is an integer, it will be used as the system exit status.\n",
      "        If it is another kind of object, it will be printed and the system\n",
      "        exit status will be one (i.e., failure).\n",
      "    \n",
      "    getcheckinterval(...)\n",
      "        getcheckinterval() -> current check interval; see setcheckinterval().\n",
      "    \n",
      "    getdefaultencoding(...)\n",
      "        getdefaultencoding() -> string\n",
      "        \n",
      "        Return the current default string encoding used by the Unicode \n",
      "        implementation.\n",
      "    \n",
      "    getfilesystemencoding(...)\n",
      "        getfilesystemencoding() -> string\n",
      "        \n",
      "        Return the encoding used to convert Unicode filenames in\n",
      "        operating system filenames.\n",
      "    \n",
      "    getprofile(...)\n",
      "        getprofile()\n",
      "        \n",
      "        Return the profiling function set with sys.setprofile.\n",
      "        See the profiler chapter in the library manual.\n",
      "    \n",
      "    getrecursionlimit(...)\n",
      "        getrecursionlimit()\n",
      "        \n",
      "        Return the current value of the recursion limit, the maximum depth\n",
      "        of the Python interpreter stack.  This limit prevents infinite\n",
      "        recursion from causing an overflow of the C stack and crashing Python.\n",
      "    \n",
      "    getrefcount(...)\n",
      "        getrefcount(object) -> integer\n",
      "        \n",
      "        Return the reference count of object.  The count returned is generally\n",
      "        one higher than you might expect, because it includes the (temporary)\n",
      "        reference as an argument to getrefcount().\n",
      "    \n",
      "    getsizeof(...)\n",
      "        getsizeof(object, default) -> int\n",
      "        \n",
      "        Return the size of object in bytes.\n",
      "    \n",
      "    gettrace(...)\n",
      "        gettrace()\n",
      "        \n",
      "        Return the global debug tracing function set with sys.settrace.\n",
      "        See the debugger chapter in the library manual.\n",
      "    \n",
      "    getwindowsversion(...)\n",
      "        getwindowsversion()\n",
      "        \n",
      "        Return information about the running version of Windows as a named tuple.\n",
      "        The members are named: major, minor, build, platform, service_pack,\n",
      "        service_pack_major, service_pack_minor, suite_mask, and product_type. For\n",
      "        backward compatibility, only the first 5 items are available by indexing.\n",
      "        All elements are numbers, except service_pack which is a string. Platform\n",
      "        may be 0 for win32s, 1 for Windows 9x/ME, 2 for Windows NT/2000/XP/Vista/7,\n",
      "        3 for Windows CE. Product_type may be 1 for a workstation, 2 for a domain\n",
      "        controller, 3 for a server.\n",
      "    \n",
      "    setcheckinterval(...)\n",
      "        setcheckinterval(n)\n",
      "        \n",
      "        Tell the Python interpreter to check for asynchronous events every\n",
      "        n instructions.  This also affects how often thread switches occur.\n",
      "    \n",
      "    setprofile(...)\n",
      "        setprofile(function)\n",
      "        \n",
      "        Set the profiling function.  It will be called on each function call\n",
      "        and return.  See the profiler chapter in the library manual.\n",
      "    \n",
      "    setrecursionlimit(...)\n",
      "        setrecursionlimit(n)\n",
      "        \n",
      "        Set the maximum depth of the Python interpreter stack to n.  This\n",
      "        limit prevents infinite recursion from causing an overflow of the C\n",
      "        stack and crashing Python.  The highest possible limit is platform-\n",
      "        dependent.\n",
      "    \n",
      "    settrace(...)\n",
      "        settrace(function)\n",
      "        \n",
      "        Set the global debug tracing function.  It will be called on each\n",
      "        function call.  See the debugger chapter in the library manual.\n",
      "\n",
      "DATA\n",
      "    __stderr__ = <open file '<stderr>', mode 'w'>\n",
      "    __stdin__ = <open file '<stdin>', mode 'r'>\n",
      "    __stdout__ = <open file '<stdout>', mode 'w'>\n",
      "    api_version = 1013\n",
      "    argv = [r'C:\\Users\\lenovo\\Anaconda2\\lib\\site-packages\\ipykernel\\__main...\n",
      "    builtin_module_names = ('__builtin__', '__main__', '_ast', '_bisect', ...\n",
      "    byteorder = 'little'\n",
      "    copyright = 'Copyright (c) 2001-2017 Python Software Foundati...ematis...\n",
      "    displayhook = <ipykernel.displayhook.ZMQShellDisplayHook object>\n",
      "    dllhandle = 1909915648L\n",
      "    dont_write_bytecode = False\n",
      "    exc_value = TypeError(\"<module 'sys' (built-in)> is a built-in module\"...\n",
      "    exec_prefix = r'C:\\Users\\lenovo\\Anaconda2'\n",
      "    executable = r'C:\\Users\\lenovo\\Anaconda2\\python.exe'\n",
      "    flags = sys.flags(debug=0, py3k_warning=0, division_warn...unicode=0, ...\n",
      "    float_info = sys.float_info(max=1.7976931348623157e+308, max_...epsilo...\n",
      "    float_repr_style = 'short'\n",
      "    hexversion = 34017008\n",
      "    long_info = sys.long_info(bits_per_digit=30, sizeof_digit=4)\n",
      "    maxint = 2147483647\n",
      "    maxsize = 9223372036854775807L\n",
      "    maxunicode = 65535\n",
      "    meta_path = [<six._SixMetaPathImporter object>, <pkg_resources.extern....\n",
      "    modules = {'IPython': <module 'IPython' from 'C:\\Users\\lenovo\\Anaconda...\n",
      "    path = ['', r'C:\\Users\\lenovo\\Anaconda2\\python27.zip', r'C:\\Users\\leno...\n",
      "    path_hooks = [<type 'zipimport.zipimporter'>]\n",
      "    path_importer_cache = {'': None, r'C:\\Users\\lenovo\\.ipython': None, r'...\n",
      "    platform = 'win32'\n",
      "    prefix = r'C:\\Users\\lenovo\\Anaconda2'\n",
      "    ps1 = 'In : '\n",
      "    ps2 = '...: '\n",
      "    ps3 = 'Out: '\n",
      "    py3kwarning = False\n",
      "    stderr = <ipykernel.iostream.OutStream object>\n",
      "    stdin = <open file '<stdin>', mode 'r'>\n",
      "    stdout = <ipykernel.iostream.OutStream object>\n",
      "    subversion = ('CPython', '', '')\n",
      "    version = '2.7.14 |Anaconda custom (64-bit)| (default, Oct  4 2017, 10...\n",
      "    version_info = sys.version_info(major=2, minor=7, micro=14, releaselev...\n",
      "    warnoptions = []\n",
      "    winver = '2.7'\n",
      "\n",
      "\n"
     ]
    }
   ],
   "source": [
    "help(sys)"
   ]
  },
  {
   "cell_type": "code",
   "execution_count": 4,
   "metadata": {},
   "outputs": [
    {
     "ename": "SystemExit",
     "evalue": "2",
     "output_type": "error",
     "traceback": [
      "An exception has occurred, use %tb to see the full traceback.\n",
      "\u001b[1;31mSystemExit\u001b[0m\u001b[1;31m:\u001b[0m 2\n"
     ]
    },
    {
     "name": "stderr",
     "output_type": "stream",
     "text": [
      "C:\\Users\\lenovo\\Anaconda2\\lib\\site-packages\\IPython\\core\\interactiveshell.py:2890: UserWarning: To exit: use 'exit', 'quit', or Ctrl-D.\n",
      "  warn(\"To exit: use 'exit', 'quit', or Ctrl-D.\", stacklevel=1)\n"
     ]
    }
   ],
   "source": [
    "sys.exit(2)"
   ]
  },
  {
   "cell_type": "code",
   "execution_count": 5,
   "metadata": {},
   "outputs": [
    {
     "ename": "SystemExit",
     "evalue": "",
     "output_type": "error",
     "traceback": [
      "An exception has occurred, use %tb to see the full traceback.\n",
      "\u001b[1;31mSystemExit\u001b[0m\n"
     ]
    }
   ],
   "source": [
    "sys.exit()"
   ]
  },
  {
   "cell_type": "code",
   "execution_count": 6,
   "metadata": {
    "collapsed": true
   },
   "outputs": [],
   "source": [
    "import turtle"
   ]
  },
  {
   "cell_type": "code",
   "execution_count": 8,
   "metadata": {},
   "outputs": [
    {
     "name": "stdout",
     "output_type": "stream",
     "text": [
      "Bir sayi giriniz: 2\n",
      "4\n"
     ]
    }
   ],
   "source": [
    "try:\n",
    "    sayi = input(\"Bir sayi giriniz: \")\n",
    "    print sayi * sayi\n",
    "except:\n",
    "    print \"Duzgun sayi girmediniz!\""
   ]
  },
  {
   "cell_type": "code",
   "execution_count": 14,
   "metadata": {},
   "outputs": [
    {
     "name": "stdout",
     "output_type": "stream",
     "text": [
      "Bir sayi giriniz: *\n",
      "Sayiyi hatali girdiniz ya da girmediniz!\n"
     ]
    }
   ],
   "source": [
    "try:\n",
    "    sayi = input(\"Bir sayi giriniz: \")\n",
    "    print sayi * sayi\n",
    "except NameError:\n",
    "    print \"Sayi girmediniz, harf girdiniz!\"\n",
    "except SyntaxError:\n",
    "    print \"Sayiyi hatali girdiniz ya da girmediniz!\"\n",
    "except:\n",
    "    print \"Hatali giris!\""
   ]
  },
  {
   "cell_type": "code",
   "execution_count": 15,
   "metadata": {},
   "outputs": [
    {
     "name": "stdout",
     "output_type": "stream",
     "text": [
      "Bir sayi giriniz: 5\n",
      "25\n",
      "Basarili\n"
     ]
    }
   ],
   "source": [
    "try:\n",
    "    sayi = input(\"Bir sayi giriniz: \")\n",
    "    print sayi * sayi\n",
    "except NameError:\n",
    "    print \"Sayi girmediniz, harf girdiniz!\"\n",
    "except SyntaxError:\n",
    "    print \"Sayiyi hatali girdiniz ya da girmediniz!\"\n",
    "except:\n",
    "    print \"Hatali giris!\"\n",
    "else:\n",
    "    print \"Basarili\""
   ]
  },
  {
   "cell_type": "code",
   "execution_count": 16,
   "metadata": {},
   "outputs": [
    {
     "name": "stdout",
     "output_type": "stream",
     "text": [
      "Bir sayi giriniz: 5\n",
      "25\n",
      "Basarili!\n",
      "Duble Basarili!\n"
     ]
    }
   ],
   "source": [
    "# finally\n",
    "\n",
    "try:\n",
    "    sayi = input(\"Bir sayi giriniz: \")\n",
    "    print sayi * sayi\n",
    "except NameError:\n",
    "    print \"Sayi girmediniz, harf girdiniz!\"\n",
    "except SyntaxError:\n",
    "    print \"Sayiyi hatali girdiniz ya da girmediniz!\"\n",
    "except:\n",
    "    print \"Hatali giris!\"\n",
    "else:\n",
    "    print \"Basarili!\"\n",
    "finally:\n",
    "    print \"Duble Basarili!\""
   ]
  },
  {
   "cell_type": "code",
   "execution_count": 17,
   "metadata": {
    "collapsed": true
   },
   "outputs": [],
   "source": [
    "# hata mesajini degistirme raise\n",
    "def karekok(x):\n",
    "    if x < 0:\n",
    "        raise ValueError(\"Gecersiz deger. Karekoku alinacak sayi negatif olamaz!\")\n",
    "    return x ** 0.5"
   ]
  },
  {
   "cell_type": "code",
   "execution_count": 19,
   "metadata": {},
   "outputs": [
    {
     "ename": "ValueError",
     "evalue": "Gecersiz deger. Karekoku alinacak sayi negatif olamaz!",
     "output_type": "error",
     "traceback": [
      "\u001b[1;31m---------------------------------------------------------------------------\u001b[0m",
      "\u001b[1;31mValueError\u001b[0m                                Traceback (most recent call last)",
      "\u001b[1;32m<ipython-input-19-f9cc58d8a1d9>\u001b[0m in \u001b[0;36m<module>\u001b[1;34m()\u001b[0m\n\u001b[1;32m----> 1\u001b[1;33m \u001b[0mkarekok\u001b[0m\u001b[1;33m(\u001b[0m\u001b[1;33m-\u001b[0m\u001b[1;36m16\u001b[0m\u001b[1;33m)\u001b[0m\u001b[1;33m\u001b[0m\u001b[0m\n\u001b[0m",
      "\u001b[1;32m<ipython-input-17-a3ccbd087df7>\u001b[0m in \u001b[0;36mkarekok\u001b[1;34m(x)\u001b[0m\n\u001b[0;32m      1\u001b[0m \u001b[1;32mdef\u001b[0m \u001b[0mkarekok\u001b[0m\u001b[1;33m(\u001b[0m\u001b[0mx\u001b[0m\u001b[1;33m)\u001b[0m\u001b[1;33m:\u001b[0m\u001b[1;33m\u001b[0m\u001b[0m\n\u001b[0;32m      2\u001b[0m     \u001b[1;32mif\u001b[0m \u001b[0mx\u001b[0m \u001b[1;33m<\u001b[0m \u001b[1;36m0\u001b[0m\u001b[1;33m:\u001b[0m\u001b[1;33m\u001b[0m\u001b[0m\n\u001b[1;32m----> 3\u001b[1;33m         \u001b[1;32mraise\u001b[0m \u001b[0mValueError\u001b[0m\u001b[1;33m(\u001b[0m\u001b[1;34m\"Gecersiz deger. Karekoku alinacak sayi negatif olamaz!\"\u001b[0m\u001b[1;33m)\u001b[0m\u001b[1;33m\u001b[0m\u001b[0m\n\u001b[0m\u001b[0;32m      4\u001b[0m     \u001b[1;32mreturn\u001b[0m \u001b[0mx\u001b[0m \u001b[1;33m**\u001b[0m \u001b[1;36m0.5\u001b[0m\u001b[1;33m\u001b[0m\u001b[0m\n",
      "\u001b[1;31mValueError\u001b[0m: Gecersiz deger. Karekoku alinacak sayi negatif olamaz!"
     ]
    }
   ],
   "source": [
    "karekok(-16)"
   ]
  },
  {
   "cell_type": "code",
   "execution_count": 37,
   "metadata": {},
   "outputs": [],
   "source": [
    "from __future__ import division\n",
    "def dortislem(sayi1=1, sayi2=1,op=\"+\"):\n",
    "    try:\n",
    "        if op == \"+\":\n",
    "            print sayi1 + sayi2\n",
    "        elif op == \"*\" or op == \"x\":\n",
    "            print sayi1 * sayi2\n",
    "        elif op == \"-\":\n",
    "            print sayi1 - sayi2\n",
    "        elif op == \"/\" or op == \":\":\n",
    "            print float(sayi1) / sayi2\n",
    "        else:\n",
    "            print \"Hatali islem!\"\n",
    "    except:\n",
    "        print \"Kullanim: Hatali giris yaptiniz. 4 islem yapiniz!\""
   ]
  },
  {
   "cell_type": "code",
   "execution_count": 38,
   "metadata": {},
   "outputs": [
    {
     "name": "stdout",
     "output_type": "stream",
     "text": [
      "60\n"
     ]
    }
   ],
   "source": [
    "dortislem(5,12,\"*\")"
   ]
  },
  {
   "cell_type": "code",
   "execution_count": 39,
   "metadata": {},
   "outputs": [
    {
     "name": "stdout",
     "output_type": "stream",
     "text": [
      "Kullanim: Hatali giris yaptiniz. 4 islem yapiniz!\n"
     ]
    }
   ],
   "source": [
    "dortislem(5,\"a\",\"-\")"
   ]
  },
  {
   "cell_type": "code",
   "execution_count": 40,
   "metadata": {
    "collapsed": true
   },
   "outputs": [],
   "source": [
    "class DortIslem():\n",
    "    pass"
   ]
  },
  {
   "cell_type": "code",
   "execution_count": 42,
   "metadata": {},
   "outputs": [
    {
     "data": {
      "text/plain": [
       "<__main__.DortIslem instance at 0x0000000005975F88>"
      ]
     },
     "execution_count": 42,
     "metadata": {},
     "output_type": "execute_result"
    }
   ],
   "source": [
    "DortIslem()"
   ]
  },
  {
   "cell_type": "code",
   "execution_count": 59,
   "metadata": {
    "collapsed": true
   },
   "outputs": [],
   "source": [
    "y = DortIslem"
   ]
  },
  {
   "cell_type": "code",
   "execution_count": 60,
   "metadata": {},
   "outputs": [
    {
     "data": {
      "text/plain": [
       "<class __main__.DortIslem at 0x0000000005914BE8>"
      ]
     },
     "execution_count": 60,
     "metadata": {},
     "output_type": "execute_result"
    }
   ],
   "source": [
    "y"
   ]
  },
  {
   "cell_type": "code",
   "execution_count": 43,
   "metadata": {
    "collapsed": true
   },
   "outputs": [],
   "source": [
    "x = DortIslem()"
   ]
  },
  {
   "cell_type": "code",
   "execution_count": 58,
   "metadata": {},
   "outputs": [
    {
     "data": {
      "text/plain": [
       "<__main__.DortIslem instance at 0x0000000005958D48>"
      ]
     },
     "execution_count": 58,
     "metadata": {},
     "output_type": "execute_result"
    }
   ],
   "source": [
    "x"
   ]
  },
  {
   "cell_type": "code",
   "execution_count": 44,
   "metadata": {
    "collapsed": true
   },
   "outputs": [],
   "source": [
    "x.sayi1 = 5"
   ]
  },
  {
   "cell_type": "code",
   "execution_count": 45,
   "metadata": {
    "collapsed": true
   },
   "outputs": [],
   "source": [
    "x.sayi2 = 15"
   ]
  },
  {
   "cell_type": "code",
   "execution_count": 46,
   "metadata": {
    "collapsed": true
   },
   "outputs": [],
   "source": [
    "x.op = \"*\""
   ]
  },
  {
   "cell_type": "code",
   "execution_count": 47,
   "metadata": {},
   "outputs": [
    {
     "data": {
      "text/plain": [
       "['__doc__', '__module__']"
      ]
     },
     "execution_count": 47,
     "metadata": {},
     "output_type": "execute_result"
    }
   ],
   "source": [
    "dir(DortIslem)"
   ]
  },
  {
   "cell_type": "code",
   "execution_count": 48,
   "metadata": {},
   "outputs": [
    {
     "data": {
      "text/plain": [
       "['__doc__', '__module__', 'op', 'sayi1', 'sayi2']"
      ]
     },
     "execution_count": 48,
     "metadata": {},
     "output_type": "execute_result"
    }
   ],
   "source": [
    "dir(x)"
   ]
  },
  {
   "cell_type": "code",
   "execution_count": 50,
   "metadata": {
    "collapsed": true
   },
   "outputs": [],
   "source": [
    "x.__doc__ = \"Yardim dosyasi\""
   ]
  },
  {
   "cell_type": "code",
   "execution_count": 56,
   "metadata": {},
   "outputs": [
    {
     "data": {
      "text/plain": [
       "'Yardim dosyasi'"
      ]
     },
     "execution_count": 56,
     "metadata": {},
     "output_type": "execute_result"
    }
   ],
   "source": [
    "x.__doc__"
   ]
  },
  {
   "cell_type": "code",
   "execution_count": 52,
   "metadata": {},
   "outputs": [
    {
     "name": "stdout",
     "output_type": "stream",
     "text": [
      "Sayilar\n"
     ]
    }
   ],
   "source": [
    "class DortIslem():\n",
    "    \"Bu sinif 4 islem yapar.\"\n",
    "    print \"Sayilar\""
   ]
  },
  {
   "cell_type": "code",
   "execution_count": null,
   "metadata": {
    "collapsed": true
   },
   "outputs": [],
   "source": []
  },
  {
   "cell_type": "code",
   "execution_count": 94,
   "metadata": {},
   "outputs": [],
   "source": [
    "class DortIslem:\n",
    "    '''4 islem yapmak icin kullanilan sinif. Sayi1 ve sayi2 argumanlarini alir, op ile aritmetik operator secilir'''\n",
    "    \n",
    "    def __init__(self, s1, s2, op):\n",
    "        self.s1 = s1\n",
    "        self.s2 = s2\n",
    "        self.op = op\n",
    "    \n",
    "    def toplama(self):\n",
    "        return self.s1 + self.s2\n",
    "    def cikarma(self):\n",
    "        return self.s1 - self.s2\n",
    "    def carpma(self):\n",
    "        return self.s1 * self.s2\n",
    "    def bolme(self):\n",
    "        return float(self.s1) / self.s2"
   ]
  },
  {
   "cell_type": "code",
   "execution_count": 85,
   "metadata": {},
   "outputs": [],
   "source": [
    "d = DortIslem(13,5,\"*\")"
   ]
  },
  {
   "cell_type": "code",
   "execution_count": 79,
   "metadata": {},
   "outputs": [
    {
     "data": {
      "text/plain": [
       "instance"
      ]
     },
     "execution_count": 79,
     "metadata": {},
     "output_type": "execute_result"
    }
   ],
   "source": [
    "type(d)"
   ]
  },
  {
   "cell_type": "code",
   "execution_count": 92,
   "metadata": {},
   "outputs": [
    {
     "name": "stdout",
     "output_type": "stream",
     "text": [
      "['__doc__', '__init__', '__module__', 'bolme', 'carpma', 'cikarma', 'op', 's1', 's2', 'toplama']\n"
     ]
    }
   ],
   "source": [
    "print(dir(d))"
   ]
  },
  {
   "cell_type": "code",
   "execution_count": 95,
   "metadata": {},
   "outputs": [
    {
     "name": "stdout",
     "output_type": "stream",
     "text": [
      "Help on class DortIslem in module __main__:\n",
      "\n",
      "class DortIslem\n",
      " |  4 islem yapmak icin kullanilan sinif. Sayi1 ve sayi2 argumanlarini alir, op ile aritmetik operator secilir\n",
      " |  \n",
      " |  Methods defined here:\n",
      " |  \n",
      " |  __init__(self, s1, s2, op)\n",
      " |  \n",
      " |  bolme(self)\n",
      " |  \n",
      " |  carpma(self)\n",
      " |  \n",
      " |  cikarma(self)\n",
      " |  \n",
      " |  toplama(self)\n",
      "\n"
     ]
    }
   ],
   "source": [
    "help(DortIslem)"
   ]
  },
  {
   "cell_type": "code",
   "execution_count": null,
   "metadata": {
    "collapsed": true
   },
   "outputs": [],
   "source": [
    "class DortIslem:\n",
    "    '''4 islem yapmak icin kullanilan sinif. Sayi1 ve sayi2 argumanlarini alir, op ile aritmetik operator secilir'''\n",
    "    \n",
    "    def __init__(self, s1, s2, op):\n",
    "        self.s1 = s1\n",
    "        self.s2 = s2\n",
    "        self.op = op\n",
    "    \n",
    "    def toplama(self):\n",
    "        return self.s1 + self.s2\n",
    "    def cikarma(self):\n",
    "        return self.s1 - self.s2\n",
    "    def carpma(self):\n",
    "        return self.s1 * self.s2\n",
    "    def bolme(self):\n",
    "        return float(self.s1) / self.s2\n",
    "    def islem(self):\n",
    "        if self.op == \"+\":\n",
    "            return self.s1 + self.s2\n",
    "        if self.op == \"-\":\n",
    "            return self.s1 - self.s2\n",
    "        if self.op == \"/\" or self.op == \":\":\n",
    "            return float(self.s1) / self.s2\n",
    "        if self.op == \"*\" or self.op == \"x\":\n",
    "            return self.s1 * self.s2\n",
    "        \n"
   ]
  },
  {
   "cell_type": "code",
   "execution_count": 140,
   "metadata": {
    "collapsed": true
   },
   "outputs": [],
   "source": [
    "# alternatif olarak self fonksiyonlar ile yapilabilir\n",
    "\n",
    "class DortIslem:\n",
    "    '''\n",
    "    Bu sinif verilen iki sayi ile dort islem yapar. Sayi1 ve sayi2 argumanlarini alir, op ile aritmetik operator secilir. Varsayilan operator +'dir.\n",
    "    Operatorler;\n",
    "    \n",
    "    Toplama icin: +\n",
    "    Cikarma icin: -\n",
    "    Bolme icin: / veya : \n",
    "    Carpma icin: * veya x\n",
    "    \n",
    "    '''\n",
    "    \n",
    "    def __init__(self, s1, s2, op=\"+\"):\n",
    "        self.s1 = s1\n",
    "        self.s2 = s2\n",
    "        self.op = op\n",
    "    \n",
    "    def toplama(self):\n",
    "        return self.s1 + self.s2\n",
    "    def cikarma(self):\n",
    "        return self.s1 - self.s2\n",
    "    def carpma(self):\n",
    "        return self.s1 * self.s2\n",
    "    def bolme(self):\n",
    "        return float(self.s1) / self.s2\n",
    "    def islem(self):\n",
    "        if self.op == \"+\":\n",
    "            return self.toplama()\n",
    "        elif self.op == \"-\":\n",
    "            return self.cikarma()\n",
    "        elif self.op == \"/\" or self.op == \":\":\n",
    "            return self.bolme()\n",
    "        elif self.op == \"*\" or self.op == \"x\":\n",
    "            return self.carpma()\n",
    "        else:\n",
    "            print \"Hatali islem\""
   ]
  },
  {
   "cell_type": "code",
   "execution_count": 141,
   "metadata": {},
   "outputs": [
    {
     "name": "stdout",
     "output_type": "stream",
     "text": [
      "\n",
      "    Bu sinif verilen iki sayi ile dort islem yapar. Sayi1 ve sayi2 argumanlarini alir, op ile aritmetik operator secilir. Varsayilan operator +'dir.\n",
      "    Operatorler;\n",
      "    \n",
      "    Toplama icin: +\n",
      "    Cikarma icin: -\n",
      "    Bolme icin: / veya : \n",
      "    Carpma icin: * veya x\n",
      "    \n",
      "    \n"
     ]
    }
   ],
   "source": [
    "print(DortIslem.__doc__)"
   ]
  },
  {
   "cell_type": "code",
   "execution_count": 142,
   "metadata": {},
   "outputs": [
    {
     "data": {
      "text/plain": [
       "<__main__.DortIslem instance at 0x0000000005753888>"
      ]
     },
     "execution_count": 142,
     "metadata": {},
     "output_type": "execute_result"
    }
   ],
   "source": [
    "DortIslem(s1=17, s2=23)"
   ]
  },
  {
   "cell_type": "code",
   "execution_count": 143,
   "metadata": {
    "collapsed": true
   },
   "outputs": [],
   "source": [
    "e = DortIslem(17,9, \"x\")"
   ]
  },
  {
   "cell_type": "code",
   "execution_count": 144,
   "metadata": {},
   "outputs": [
    {
     "data": {
      "text/plain": [
       "153"
      ]
     },
     "execution_count": 144,
     "metadata": {},
     "output_type": "execute_result"
    }
   ],
   "source": [
    "e.islem()"
   ]
  },
  {
   "cell_type": "code",
   "execution_count": 145,
   "metadata": {},
   "outputs": [
    {
     "data": {
      "text/plain": [
       "1.8888888888888888"
      ]
     },
     "execution_count": 145,
     "metadata": {},
     "output_type": "execute_result"
    }
   ],
   "source": [
    "e.bolme()"
   ]
  },
  {
   "cell_type": "code",
   "execution_count": 146,
   "metadata": {},
   "outputs": [
    {
     "name": "stdout",
     "output_type": "stream",
     "text": [
      "Help on instance of DortIslem in module __main__:\n",
      "\n",
      "class DortIslem\n",
      " |  Bu sinif verilen iki sayi ile dort islem yapar. Sayi1 ve sayi2 argumanlarini alir, op ile aritmetik operator secilir. Varsayilan operator +'dir.\n",
      " |  Operatorler;\n",
      " |  \n",
      " |  Toplama icin: +\n",
      " |  Cikarma icin: -\n",
      " |  Bolme icin: / veya : \n",
      " |  Carpma icin: * veya x\n",
      " |  \n",
      " |  Methods defined here:\n",
      " |  \n",
      " |  __init__(self, s1, s2, op='+')\n",
      " |  \n",
      " |  bolme(self)\n",
      " |  \n",
      " |  carpma(self)\n",
      " |  \n",
      " |  cikarma(self)\n",
      " |  \n",
      " |  islem(self)\n",
      " |  \n",
      " |  toplama(self)\n",
      "\n"
     ]
    }
   ],
   "source": [
    "help(e)"
   ]
  },
  {
   "cell_type": "code",
   "execution_count": 197,
   "metadata": {},
   "outputs": [],
   "source": [
    "class Vektor:\n",
    "    '''\n",
    "    Vektore ait girilen x, y ve aci ile \n",
    "    \n",
    "    \n",
    "    \n",
    "    '''\n",
    "    \n",
    "    \n",
    "    def __init__(self, x, y, aci=0):\n",
    "        self.x = x\n",
    "        self.y = y\n",
    "        self.aci = aci\n",
    "    \n",
    "    \n",
    "    def boy(self):\n",
    "        from math import sqrt\n",
    "        return sqrt((self.x ** 2) + (self.y ** 2))\n",
    "    \n",
    "    def __repr__(self):\n",
    "        return (\"%si + %sj\" %(self.x, self.y))\n",
    "    \n",
    "    #def yazdir(self):\n",
    "        #return (\"%si + %sj\" %(self.x, self.y))\n",
    "        # ayni gorevi goren fonksiyon ozel isimle kullanilabilir.\n",
    "    "
   ]
  },
  {
   "cell_type": "code",
   "execution_count": 193,
   "metadata": {},
   "outputs": [],
   "source": [
    "a = Vektor(3,4, 10)"
   ]
  },
  {
   "cell_type": "code",
   "execution_count": 194,
   "metadata": {},
   "outputs": [
    {
     "data": {
      "text/plain": [
       "5.0"
      ]
     },
     "execution_count": 194,
     "metadata": {},
     "output_type": "execute_result"
    }
   ],
   "source": [
    "a.boy()"
   ]
  },
  {
   "cell_type": "code",
   "execution_count": 195,
   "metadata": {},
   "outputs": [
    {
     "name": "stdout",
     "output_type": "stream",
     "text": [
      "3i + 4j\n"
     ]
    }
   ],
   "source": [
    "print a"
   ]
  },
  {
   "cell_type": "code",
   "execution_count": 199,
   "metadata": {
    "collapsed": true
   },
   "outputs": [],
   "source": [
    "class Vektor:\n",
    "    '''\n",
    "    Vektore ait girilen x, y ve aci ile \n",
    "    \n",
    "    \n",
    "    \n",
    "    '''\n",
    "    \n",
    "    \n",
    "    def __init__(self, x, y, aci=0):\n",
    "        self.x = x\n",
    "        self.y = y\n",
    "        self.aci = aci\n",
    "    \n",
    "    \n",
    "    def boy(self):\n",
    "        from math import sqrt\n",
    "        return sqrt((self.x ** 2) + (self.y ** 2))\n",
    "    \n",
    "    def __repr__(self):\n",
    "        return (\"%si + %sj\" %(self.x, self.y))\n",
    "    \n",
    "    #def yazdir(self):\n",
    "        #return (\"%si + %sj\" %(self.x, self.y))\n",
    "        # ayni gorevi goren fonksiyon ozel isimle kullanilabilir.\n",
    "        \n",
    "    def toplama(self, oteki): # vektorlerin x ve y'lerini toplama\n",
    "        return Vektor(self.x + oteki.x, self.y + oteki.y)\n",
    "    \n",
    "    #def __add__(self, oteki): # alternatif\n",
    "     #   return Vektor(self.x + oteki.x, self.y + oteki.y)"
   ]
  },
  {
   "cell_type": "code",
   "execution_count": 200,
   "metadata": {
    "collapsed": true
   },
   "outputs": [],
   "source": [
    "a = Vektor(15, 20)\n",
    "b = Vektor(5,12)"
   ]
  },
  {
   "cell_type": "code",
   "execution_count": 201,
   "metadata": {
    "collapsed": true
   },
   "outputs": [],
   "source": [
    "c = a.toplama(b)"
   ]
  },
  {
   "cell_type": "code",
   "execution_count": 203,
   "metadata": {},
   "outputs": [
    {
     "name": "stdout",
     "output_type": "stream",
     "text": [
      "20i + 32j\n"
     ]
    }
   ],
   "source": [
    "print c"
   ]
  },
  {
   "cell_type": "code",
   "execution_count": 244,
   "metadata": {
    "collapsed": true
   },
   "outputs": [],
   "source": [
    "class Vektor:\n",
    "    '''\n",
    "    Vektore ait girilen x, y ve aci ile \n",
    "        '''\n",
    "    \n",
    "    \n",
    "    def __init__(self, x, y):\n",
    "        self.x = x\n",
    "        self.y = y\n",
    "          \n",
    "    def boy(self):\n",
    "        from math import sqrt\n",
    "        return sqrt((self.x ** 2) + (self.y ** 2))\n",
    "    \n",
    "    def __repr__(self):\n",
    "        return (\"%si + %sj\" %(self.x, self.y))\n",
    "    \n",
    "    #def yazdir(self):\n",
    "        #return (\"%si + %sj\" %(self.x, self.y))\n",
    "        # ayni gorevi goren fonksiyon ozel isimle kullanilabilir.\n",
    "        \n",
    "    def toplama(self, oteki): # vektorlerin x ve y'lerini toplama\n",
    "        return Vektor(self.x + oteki.x, self.y + oteki.y)\n",
    "    \n",
    "    #def __add__(self, oteki): # alternatif\n",
    "     #   return Vektor(self.x + oteki.x, self.y + oteki.y)\n",
    "        \n",
    "    def aci(self): # vektorlerin arasindaki aciyi hesaplama\n",
    "        from math import atan, tan, tanh\n",
    "        return round(atan(float(self.y)/self.x) * 180 / math.pi)"
   ]
  },
  {
   "cell_type": "code",
   "execution_count": 245,
   "metadata": {
    "collapsed": true
   },
   "outputs": [],
   "source": [
    "a = Vektor(4,3)"
   ]
  },
  {
   "cell_type": "code",
   "execution_count": 246,
   "metadata": {},
   "outputs": [
    {
     "data": {
      "text/plain": [
       "37.0"
      ]
     },
     "execution_count": 246,
     "metadata": {},
     "output_type": "execute_result"
    }
   ],
   "source": [
    "a.aci()"
   ]
  },
  {
   "cell_type": "code",
   "execution_count": 263,
   "metadata": {},
   "outputs": [
    {
     "name": "stdout",
     "output_type": "stream",
     "text": [
      "Vektorun x degerini giriniz: 3\n",
      "Vektorun y degerini giriniz: 4\n",
      "Vektor: 3i + 4j\n",
      "Aralarindaki aci: 53.0 \n",
      "\n",
      "DortIslem sinifi ile toplama islemi: 7\n",
      "DortIslem sinifi ile cikarma islemi: -1\n",
      "DortIslem sinifi ile bolme islemi: 0.75\n",
      "DortIslem sinifi ile carpma islemi: 12\n"
     ]
    }
   ],
   "source": [
    "# main sinifi ekleme\n",
    "\n",
    "class Vektor:\n",
    "    '''\n",
    "    Vektore ait girilen x, y ve aci ile \n",
    "        '''\n",
    "    \n",
    "    \n",
    "    def __init__(self, x, y):\n",
    "        self.x = x\n",
    "        self.y = y\n",
    "          \n",
    "    def boy(self):\n",
    "        from math import sqrt\n",
    "        return sqrt((self.x ** 2) + (self.y ** 2))\n",
    "    \n",
    "    def __repr__(self):\n",
    "        return (\"%si + %sj\" %(self.x, self.y))\n",
    "    \n",
    "    #def yazdir(self):\n",
    "        #return (\"%si + %sj\" %(self.x, self.y))\n",
    "        # ayni gorevi goren fonksiyon ozel isimle kullanilabilir.\n",
    "        \n",
    "    def toplama(self, oteki): # vektorlerin x ve y'lerini toplama\n",
    "        return Vektor(self.x + oteki.x, self.y + oteki.y)\n",
    "    \n",
    "    #def __add__(self, oteki): # alternatif\n",
    "     #   return Vektor(self.x + oteki.x, self.y + oteki.y)\n",
    "        \n",
    "    def aci(self): # vektorlerin arasindaki aciyi hesaplama\n",
    "        from math import atan, tan, tanh\n",
    "        return round(atan(float(self.y)/self.x) * 180 / math.pi)\n",
    "    \n",
    "if __name__ == \"__main__\": # \n",
    "    a = input(\"Vektorun x degerini giriniz: \")\n",
    "    b = input(\"Vektorun y degerini giriniz: \")\n",
    "    from DortIslem import *\n",
    "    c = Vektor(a,b)\n",
    "    print \"Vektor:\", c.__repr__()\n",
    "    print \"Aralarindaki aci:\", c.aci(), \"\\n\"\n",
    "    d = DortIslem(a,b)\n",
    "    print \"DortIslem sinifi ile toplama islemi:\", d.toplama()\n",
    "    print \"DortIslem sinifi ile cikarma islemi:\", d.cikarma()\n",
    "    print \"DortIslem sinifi ile bolme islemi:\", d.bolme()\n",
    "    print \"DortIslem sinifi ile carpma islemi:\", d.carpma()"
   ]
  },
  {
   "cell_type": "code",
   "execution_count": 264,
   "metadata": {},
   "outputs": [
    {
     "data": {
      "text/plain": [
       "53.0"
      ]
     },
     "execution_count": 264,
     "metadata": {},
     "output_type": "execute_result"
    }
   ],
   "source": [
    "Vektor(6,8).aci()"
   ]
  },
  {
   "cell_type": "markdown",
   "metadata": {},
   "source": [
    "### Tkinter ile arayuz uygulamasi icin class ornegi"
   ]
  },
  {
   "cell_type": "code",
   "execution_count": 278,
   "metadata": {
    "collapsed": true
   },
   "outputs": [],
   "source": [
    "from Tkinter import *"
   ]
  },
  {
   "cell_type": "code",
   "execution_count": 292,
   "metadata": {},
   "outputs": [],
   "source": [
    "from Tkinter import *\n",
    "class Arayuz:\n",
    "    def __init__(self):\n",
    "        pencere = Tk()\n",
    "        dugme = Button(text=\"Click!\")\n",
    "        dugme.pack()\n",
    "        pencere.mainloop()"
   ]
  },
  {
   "cell_type": "code",
   "execution_count": 293,
   "metadata": {},
   "outputs": [],
   "source": [
    "uygulama = Arayuz() # class'ı instance olarak atma"
   ]
  },
  {
   "cell_type": "code",
   "execution_count": null,
   "metadata": {
    "collapsed": true
   },
   "outputs": [],
   "source": []
  },
  {
   "cell_type": "code",
   "execution_count": null,
   "metadata": {
    "collapsed": true
   },
   "outputs": [],
   "source": []
  },
  {
   "cell_type": "code",
   "execution_count": null,
   "metadata": {
    "collapsed": true
   },
   "outputs": [],
   "source": []
  },
  {
   "cell_type": "code",
   "execution_count": null,
   "metadata": {
    "collapsed": true
   },
   "outputs": [],
   "source": []
  }
 ],
 "metadata": {
  "kernelspec": {
   "display_name": "Python [conda root]",
   "language": "python",
   "name": "conda-root-py"
  },
  "language_info": {
   "codemirror_mode": {
    "name": "ipython",
    "version": 2
   },
   "file_extension": ".py",
   "mimetype": "text/x-python",
   "name": "python",
   "nbconvert_exporter": "python",
   "pygments_lexer": "ipython2",
   "version": "2.7.14"
  }
 },
 "nbformat": 4,
 "nbformat_minor": 2
}
