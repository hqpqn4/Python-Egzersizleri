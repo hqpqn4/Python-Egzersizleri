{
 "cells": [
  {
   "cell_type": "code",
   "execution_count": 45,
   "metadata": {
    "scrolled": false
   },
   "outputs": [
    {
     "name": "stdout",
     "output_type": "stream",
     "text": [
      "Sayi (0 - 1000) giriniz: 4\n",
      "[4]\n",
      "Sayi (0 - 1000) giriniz: 6\n",
      "[4, 6]\n",
      "Sayi (0 - 1000) giriniz: 8\n",
      "[4, 6, 8]\n",
      "Sayi (0 - 1000) giriniz: 0\n",
      "Bitti! \n",
      "\n",
      "Girdiginiz sayilar:  [4, 6, 8]\n",
      "3 tane sayi girdiniz.\n",
      "Toplam: 18\n",
      "Ortalama: 6.000000\n",
      "En kucuk sayi: 4\n",
      "En buyuk sayi: 8\n",
      " \n"
     ]
    }
   ],
   "source": [
    "# 0 - 1000 arasi girilen sayilarin temel istatistikleri\n",
    "# girilen sayilar, en buyuk, en kucuk, ortalama, toplam vs...\n",
    "\n",
    "sayilar = []\n",
    "while True:\n",
    "    girdi = input(\"Sayi (0 - 1000) giriniz: \")\n",
    "    if 0 < girdi <= 1000:\n",
    "        sayilar.append(int(girdi))\n",
    "        print sayilar\n",
    "        toplam = sum(sayilar)\n",
    "        n = len(sayilar)\n",
    "        ortalama = float(toplam) / float(len(sayilar))\n",
    "        enkucuk = min(sayilar)\n",
    "        enbuyuk = max(sayilar)\n",
    "        \n",
    "    elif girdi > 1000:\n",
    "        print \"Aralik disinda sayi girdiniz\"\n",
    "    elif girdi < 0:\n",
    "        print \"Aralik disinda sayi girdiniz\"\n",
    "    elif girdi == \"\":\n",
    "        print \"Lutfen sayi giriniz!\"\n",
    "    else:\n",
    "        print \"Bitti! \\n\"\n",
    "        break\n",
    "    \n",
    "print \"Girdiginiz sayilar: \", sorted(sayilar)\n",
    "print \"%d tane sayi girdiniz.\\nToplam: %d\\nOrtalama: %f\\n\\\n",
    "En kucuk sayi: %d\\nEn buyuk sayi: %d\\n \" %(n, toplam, ortalama, enkucuk, enbuyuk)"
   ]
  },
  {
   "cell_type": "code",
   "execution_count": 1,
   "metadata": {},
   "outputs": [
    {
     "name": "stdout",
     "output_type": "stream",
     "text": [
      "Sayi (1 - 49) giriniz: 4\n",
      "Sayi (1 - 49) giriniz: 19\n",
      "Sayi (1 - 49) giriniz: 47\n",
      "Sayi (1 - 49) giriniz: 49\n",
      "Sayi (1 - 49) giriniz: 24\n",
      "Sayi (1 - 49) giriniz: 12\n",
      "Girilen sayilar: [4, 12, 19, 24, 47, 49]\n",
      "Sonuclar:  [9, 14, 18, 30, 44, 46]\n",
      "Tekrar deneyin\n"
     ]
    }
   ],
   "source": [
    "# -*- coding: utf-8 -*-\n",
    "\n",
    "# sayisal loto ornegi\n",
    "# 4+ bilen odul aliyor\n",
    "# < 4 olanlara odul yok\n",
    "\n",
    "\n",
    "import random\n",
    "\n",
    "sayac = 0\n",
    "\n",
    "kullanici = []\n",
    "while True:\n",
    "    girdi = input(\"Sayi (1 - 49) giriniz: \")\n",
    "    if 0 < girdi < 50:\n",
    "        kullanici.append(int(girdi))\n",
    "        if len(kullanici) == 6:\n",
    "            if len(set(kullanici)) == 6:\n",
    "                print \"Girilen sayilar:\", sorted(kullanici)\n",
    "                break\n",
    "            elif kullanici != 6:\n",
    "                    print \"Fazla ya da eksik sayi girdiniz.\"\n",
    "                    break\n",
    "            else:\n",
    "                break\n",
    "\n",
    "\n",
    "loto = []       \n",
    "for i in range(6):\n",
    "    sayi = random.randint(1,49)\n",
    "    loto.append(sayi)\n",
    "    if len(set(loto)) == 6:\n",
    "        print  \"Sonuclar: \", sorted(loto)\n",
    "    \n",
    "for i in range(1,6):\n",
    "    if kullanici[i] in loto:\n",
    "        sayac = sayac + 1\n",
    "        print \"Kac bildi? \", sayac\n",
    "#print sayac\n",
    "if  0 <= sayac < 4:\n",
    "    print \"Tekrar deneyin :(\"\n",
    "elif sayac == 4:\n",
    "    print \"10000 TL ikramiye kazandiniz!\"\n",
    "elif sayac == 5:\n",
    "    print \"100000 TL ikramiye kazandiniz!\"\n",
    "elif sayac == 6:\n",
    "    print \"1000000 TL ikramiye kazandiniz!\"\n",
    "else:\n",
    "    print \"Bu iste bir terslik var!\"\n"
   ]
  },
  {
   "cell_type": "code",
   "execution_count": 12,
   "metadata": {},
   "outputs": [
    {
     "name": "stdout",
     "output_type": "stream",
     "text": [
      "Benim adım istihza\n",
      "Şubat ayı bu yıl 28 gün çekiyor\n",
      "Şubat ayı bu yıl 28 gün çekiyor\n",
      "Şubat ayı bu yıl 28.000000 gün çekiyor\n",
      "Şubat ayı bu yıl 28.00 gün çekiyor\n",
      "A\n"
     ]
    }
   ],
   "source": [
    "# % operatorleri\n",
    "#s\n",
    "print(\"Benim adım %s\" %\"istihza\")\n",
    "\n",
    "#d\n",
    "print(\"Şubat ayı bu yıl %d gün çekiyor\" %28)\n",
    "print(\"Şubat ayı bu yıl %s gün çekiyor\" %28)\n",
    "\n",
    "#i, integer\n",
    "#o, octal. sekizli duzende karsiligini yazar\n",
    "#x, hexadecimal (16'liik duzen) karsiligini yazar\n",
    "\n",
    "#f\n",
    "print(\"Şubat ayı bu yıl %f gün çekiyor\" %28)\n",
    "print(\"Şubat ayı bu yıl %.2f gün çekiyor\" %28)\n",
    "\n",
    "#c, c ile tek bir karakter yazdirilir\n",
    "print(\"%c\" %65) # ascii donusumu icin"
   ]
  },
  {
   "cell_type": "code",
   "execution_count": 19,
   "metadata": {},
   "outputs": [
    {
     "data": {
      "text/plain": [
       "52"
      ]
     },
     "execution_count": 19,
     "metadata": {},
     "output_type": "execute_result"
    }
   ],
   "source": [
    "ord(\"4\")"
   ]
  },
  {
   "cell_type": "code",
   "execution_count": 20,
   "metadata": {},
   "outputs": [
    {
     "data": {
      "text/plain": [
       "'4'"
      ]
     },
     "execution_count": 20,
     "metadata": {},
     "output_type": "execute_result"
    }
   ],
   "source": [
    "chr(52)"
   ]
  }
 ],
 "metadata": {
  "kernelspec": {
   "display_name": "Python [conda root]",
   "language": "python",
   "name": "conda-root-py"
  },
  "language_info": {
   "codemirror_mode": {
    "name": "ipython",
    "version": 2
   },
   "file_extension": ".py",
   "mimetype": "text/x-python",
   "name": "python",
   "nbconvert_exporter": "python",
   "pygments_lexer": "ipython2",
   "version": "2.7.14"
  }
 },
 "nbformat": 4,
 "nbformat_minor": 2
}
