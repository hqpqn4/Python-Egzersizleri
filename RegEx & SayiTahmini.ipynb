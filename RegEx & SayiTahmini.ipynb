{
 "cells": [
  {
   "cell_type": "code",
   "execution_count": 3,
   "metadata": {
    "collapsed": true
   },
   "outputs": [],
   "source": [
    "# -*- coding: iso-8859-9 -*-"
   ]
  },
  {
   "cell_type": "code",
   "execution_count": 4,
   "metadata": {
    "collapsed": true
   },
   "outputs": [],
   "source": [
    "a = \"Menüden seçim yapınız. ============================ 1: TL/USD Dönuşümü 2: TL/EUR Dönuşümü : TL/GBP Dönuşümü: Çıkış ============================\""
   ]
  },
  {
   "cell_type": "code",
   "execution_count": 5,
   "metadata": {},
   "outputs": [
    {
     "data": {
      "text/plain": [
       "'Men\\xc3\\xbcden se\\xc3\\xa7im yap\\xc4\\xb1n\\xc4\\xb1z. ============================ 1: TL/USD D\\xc3\\xb6nu\\xc5\\x9f\\xc3\\xbcm\\xc3\\xbc 2: TL/EUR D\\xc3\\xb6nu\\xc5\\x9f\\xc3\\xbcm\\xc3\\xbc : TL/GBP D\\xc3\\xb6nu\\xc5\\x9f\\xc3\\xbcm\\xc3\\xbc: \\xc3\\x87\\xc4\\xb1k\\xc4\\xb1\\xc5\\x9f ============================'"
      ]
     },
     "execution_count": 5,
     "metadata": {},
     "output_type": "execute_result"
    }
   ],
   "source": [
    "a"
   ]
  },
  {
   "cell_type": "code",
   "execution_count": 6,
   "metadata": {
    "collapsed": true
   },
   "outputs": [],
   "source": [
    "import re"
   ]
  },
  {
   "cell_type": "code",
   "execution_count": 7,
   "metadata": {
    "scrolled": true
   },
   "outputs": [
    {
     "data": {
      "text/plain": [
       "['DEBUG',\n",
       " 'DOTALL',\n",
       " 'I',\n",
       " 'IGNORECASE',\n",
       " 'L',\n",
       " 'LOCALE',\n",
       " 'M',\n",
       " 'MULTILINE',\n",
       " 'S',\n",
       " 'Scanner',\n",
       " 'T',\n",
       " 'TEMPLATE',\n",
       " 'U',\n",
       " 'UNICODE',\n",
       " 'VERBOSE',\n",
       " 'X',\n",
       " '_MAXCACHE',\n",
       " '__all__',\n",
       " '__builtins__',\n",
       " '__doc__',\n",
       " '__file__',\n",
       " '__name__',\n",
       " '__package__',\n",
       " '__version__',\n",
       " '_alphanum',\n",
       " '_cache',\n",
       " '_cache_repl',\n",
       " '_compile',\n",
       " '_compile_repl',\n",
       " '_expand',\n",
       " '_locale',\n",
       " '_pattern_type',\n",
       " '_pickle',\n",
       " '_subx',\n",
       " 'compile',\n",
       " 'copy_reg',\n",
       " 'error',\n",
       " 'escape',\n",
       " 'findall',\n",
       " 'finditer',\n",
       " 'match',\n",
       " 'purge',\n",
       " 'search',\n",
       " 'split',\n",
       " 'sre_compile',\n",
       " 'sre_parse',\n",
       " 'sub',\n",
       " 'subn',\n",
       " 'sys',\n",
       " 'template']"
      ]
     },
     "execution_count": 7,
     "metadata": {},
     "output_type": "execute_result"
    }
   ],
   "source": [
    "dir(re)"
   ]
  },
  {
   "cell_type": "code",
   "execution_count": 10,
   "metadata": {},
   "outputs": [
    {
     "name": "stdout",
     "output_type": "stream",
     "text": [
      "Help on module re:\n",
      "\n",
      "NAME\n",
      "    re - Support for regular expressions (RE).\n",
      "\n",
      "FILE\n",
      "    c:\\users\\lenovo\\anaconda2\\lib\\re.py\n",
      "\n",
      "DESCRIPTION\n",
      "    This module provides regular expression matching operations similar to\n",
      "    those found in Perl.  It supports both 8-bit and Unicode strings; both\n",
      "    the pattern and the strings being processed can contain null bytes and\n",
      "    characters outside the US ASCII range.\n",
      "    \n",
      "    Regular expressions can contain both special and ordinary characters.\n",
      "    Most ordinary characters, like \"A\", \"a\", or \"0\", are the simplest\n",
      "    regular expressions; they simply match themselves.  You can\n",
      "    concatenate ordinary characters, so last matches the string 'last'.\n",
      "    \n",
      "    The special characters are:\n",
      "        \".\"      Matches any character except a newline.\n",
      "        \"^\"      Matches the start of the string.\n",
      "        \"$\"      Matches the end of the string or just before the newline at\n",
      "                 the end of the string.\n",
      "        \"*\"      Matches 0 or more (greedy) repetitions of the preceding RE.\n",
      "                 Greedy means that it will match as many repetitions as possible.\n",
      "        \"+\"      Matches 1 or more (greedy) repetitions of the preceding RE.\n",
      "        \"?\"      Matches 0 or 1 (greedy) of the preceding RE.\n",
      "        *?,+?,?? Non-greedy versions of the previous three special characters.\n",
      "        {m,n}    Matches from m to n repetitions of the preceding RE.\n",
      "        {m,n}?   Non-greedy version of the above.\n",
      "        \"\\\\\"     Either escapes special characters or signals a special sequence.\n",
      "        []       Indicates a set of characters.\n",
      "                 A \"^\" as the first character indicates a complementing set.\n",
      "        \"|\"      A|B, creates an RE that will match either A or B.\n",
      "        (...)    Matches the RE inside the parentheses.\n",
      "                 The contents can be retrieved or matched later in the string.\n",
      "        (?iLmsux) Set the I, L, M, S, U, or X flag for the RE (see below).\n",
      "        (?:...)  Non-grouping version of regular parentheses.\n",
      "        (?P<name>...) The substring matched by the group is accessible by name.\n",
      "        (?P=name)     Matches the text matched earlier by the group named name.\n",
      "        (?#...)  A comment; ignored.\n",
      "        (?=...)  Matches if ... matches next, but doesn't consume the string.\n",
      "        (?!...)  Matches if ... doesn't match next.\n",
      "        (?<=...) Matches if preceded by ... (must be fixed length).\n",
      "        (?<!...) Matches if not preceded by ... (must be fixed length).\n",
      "        (?(id/name)yes|no) Matches yes pattern if the group with id/name matched,\n",
      "                           the (optional) no pattern otherwise.\n",
      "    \n",
      "    The special sequences consist of \"\\\\\" and a character from the list\n",
      "    below.  If the ordinary character is not on the list, then the\n",
      "    resulting RE will match the second character.\n",
      "        \\number  Matches the contents of the group of the same number.\n",
      "        \\A       Matches only at the start of the string.\n",
      "        \\Z       Matches only at the end of the string.\n",
      "        \\b       Matches the empty string, but only at the start or end of a word.\n",
      "        \\B       Matches the empty string, but not at the start or end of a word.\n",
      "        \\d       Matches any decimal digit; equivalent to the set [0-9].\n",
      "        \\D       Matches any non-digit character; equivalent to the set [^0-9].\n",
      "        \\s       Matches any whitespace character; equivalent to [ \\t\\n\\r\\f\\v].\n",
      "        \\S       Matches any non-whitespace character; equiv. to [^ \\t\\n\\r\\f\\v].\n",
      "        \\w       Matches any alphanumeric character; equivalent to [a-zA-Z0-9_].\n",
      "                 With LOCALE, it will match the set [0-9_] plus characters defined\n",
      "                 as letters for the current locale.\n",
      "        \\W       Matches the complement of \\w.\n",
      "        \\\\       Matches a literal backslash.\n",
      "    \n",
      "    This module exports the following functions:\n",
      "        match    Match a regular expression pattern to the beginning of a string.\n",
      "        search   Search a string for the presence of a pattern.\n",
      "        sub      Substitute occurrences of a pattern found in a string.\n",
      "        subn     Same as sub, but also return the number of substitutions made.\n",
      "        split    Split a string by the occurrences of a pattern.\n",
      "        findall  Find all occurrences of a pattern in a string.\n",
      "        finditer Return an iterator yielding a match object for each match.\n",
      "        compile  Compile a pattern into a RegexObject.\n",
      "        purge    Clear the regular expression cache.\n",
      "        escape   Backslash all non-alphanumerics in a string.\n",
      "    \n",
      "    Some of the functions in this module takes flags as optional parameters:\n",
      "        I  IGNORECASE  Perform case-insensitive matching.\n",
      "        L  LOCALE      Make \\w, \\W, \\b, \\B, dependent on the current locale.\n",
      "        M  MULTILINE   \"^\" matches the beginning of lines (after a newline)\n",
      "                       as well as the string.\n",
      "                       \"$\" matches the end of lines (before a newline) as well\n",
      "                       as the end of the string.\n",
      "        S  DOTALL      \".\" matches any character at all, including the newline.\n",
      "        X  VERBOSE     Ignore whitespace and comments for nicer looking RE's.\n",
      "        U  UNICODE     Make \\w, \\W, \\b, \\B, dependent on the Unicode locale.\n",
      "    \n",
      "    This module also defines an exception 'error'.\n",
      "\n",
      "CLASSES\n",
      "    exceptions.Exception(exceptions.BaseException)\n",
      "        sre_constants.error\n",
      "    \n",
      "    class error(exceptions.Exception)\n",
      "     |  Method resolution order:\n",
      "     |      error\n",
      "     |      exceptions.Exception\n",
      "     |      exceptions.BaseException\n",
      "     |      __builtin__.object\n",
      "     |  \n",
      "     |  Data descriptors defined here:\n",
      "     |  \n",
      "     |  __weakref__\n",
      "     |      list of weak references to the object (if defined)\n",
      "     |  \n",
      "     |  ----------------------------------------------------------------------\n",
      "     |  Methods inherited from exceptions.Exception:\n",
      "     |  \n",
      "     |  __init__(...)\n",
      "     |      x.__init__(...) initializes x; see help(type(x)) for signature\n",
      "     |  \n",
      "     |  ----------------------------------------------------------------------\n",
      "     |  Data and other attributes inherited from exceptions.Exception:\n",
      "     |  \n",
      "     |  __new__ = <built-in method __new__ of type object>\n",
      "     |      T.__new__(S, ...) -> a new object with type S, a subtype of T\n",
      "     |  \n",
      "     |  ----------------------------------------------------------------------\n",
      "     |  Methods inherited from exceptions.BaseException:\n",
      "     |  \n",
      "     |  __delattr__(...)\n",
      "     |      x.__delattr__('name') <==> del x.name\n",
      "     |  \n",
      "     |  __getattribute__(...)\n",
      "     |      x.__getattribute__('name') <==> x.name\n",
      "     |  \n",
      "     |  __getitem__(...)\n",
      "     |      x.__getitem__(y) <==> x[y]\n",
      "     |  \n",
      "     |  __getslice__(...)\n",
      "     |      x.__getslice__(i, j) <==> x[i:j]\n",
      "     |      \n",
      "     |      Use of negative indices is not supported.\n",
      "     |  \n",
      "     |  __reduce__(...)\n",
      "     |  \n",
      "     |  __repr__(...)\n",
      "     |      x.__repr__() <==> repr(x)\n",
      "     |  \n",
      "     |  __setattr__(...)\n",
      "     |      x.__setattr__('name', value) <==> x.name = value\n",
      "     |  \n",
      "     |  __setstate__(...)\n",
      "     |  \n",
      "     |  __str__(...)\n",
      "     |      x.__str__() <==> str(x)\n",
      "     |  \n",
      "     |  __unicode__(...)\n",
      "     |  \n",
      "     |  ----------------------------------------------------------------------\n",
      "     |  Data descriptors inherited from exceptions.BaseException:\n",
      "     |  \n",
      "     |  __dict__\n",
      "     |  \n",
      "     |  args\n",
      "     |  \n",
      "     |  message\n",
      "\n",
      "FUNCTIONS\n",
      "    compile(pattern, flags=0)\n",
      "        Compile a regular expression pattern, returning a pattern object.\n",
      "    \n",
      "    escape(pattern)\n",
      "        Escape all non-alphanumeric characters in pattern.\n",
      "    \n",
      "    findall(pattern, string, flags=0)\n",
      "        Return a list of all non-overlapping matches in the string.\n",
      "        \n",
      "        If one or more groups are present in the pattern, return a\n",
      "        list of groups; this will be a list of tuples if the pattern\n",
      "        has more than one group.\n",
      "        \n",
      "        Empty matches are included in the result.\n",
      "    \n",
      "    finditer(pattern, string, flags=0)\n",
      "        Return an iterator over all non-overlapping matches in the\n",
      "        string.  For each match, the iterator returns a match object.\n",
      "        \n",
      "        Empty matches are included in the result.\n",
      "    \n",
      "    match(pattern, string, flags=0)\n",
      "        Try to apply the pattern at the start of the string, returning\n",
      "        a match object, or None if no match was found.\n",
      "    \n",
      "    purge()\n",
      "        Clear the regular expression cache\n",
      "    \n",
      "    search(pattern, string, flags=0)\n",
      "        Scan through string looking for a match to the pattern, returning\n",
      "        a match object, or None if no match was found.\n",
      "    \n",
      "    split(pattern, string, maxsplit=0, flags=0)\n",
      "        Split the source string by the occurrences of the pattern,\n",
      "        returning a list containing the resulting substrings.\n",
      "    \n",
      "    sub(pattern, repl, string, count=0, flags=0)\n",
      "        Return the string obtained by replacing the leftmost\n",
      "        non-overlapping occurrences of the pattern in string by the\n",
      "        replacement repl.  repl can be either a string or a callable;\n",
      "        if a string, backslash escapes in it are processed.  If it is\n",
      "        a callable, it's passed the match object and must return\n",
      "        a replacement string to be used.\n",
      "    \n",
      "    subn(pattern, repl, string, count=0, flags=0)\n",
      "        Return a 2-tuple containing (new_string, number).\n",
      "        new_string is the string obtained by replacing the leftmost\n",
      "        non-overlapping occurrences of the pattern in the source\n",
      "        string by the replacement repl.  number is the number of\n",
      "        substitutions that were made. repl can be either a string or a\n",
      "        callable; if a string, backslash escapes in it are processed.\n",
      "        If it is a callable, it's passed the match object and must\n",
      "        return a replacement string to be used.\n",
      "    \n",
      "    template(pattern, flags=0)\n",
      "        Compile a template pattern, returning a pattern object\n",
      "\n",
      "DATA\n",
      "    DOTALL = 16\n",
      "    I = 2\n",
      "    IGNORECASE = 2\n",
      "    L = 4\n",
      "    LOCALE = 4\n",
      "    M = 8\n",
      "    MULTILINE = 8\n",
      "    S = 16\n",
      "    U = 32\n",
      "    UNICODE = 32\n",
      "    VERBOSE = 64\n",
      "    X = 64\n",
      "    __all__ = ['match', 'search', 'sub', 'subn', 'split', 'findall', 'comp...\n",
      "    __version__ = '2.2.1'\n",
      "\n",
      "VERSION\n",
      "    2.2.1\n",
      "\n",
      "\n"
     ]
    }
   ],
   "source": [
    "help(re)"
   ]
  },
  {
   "cell_type": "code",
   "execution_count": 11,
   "metadata": {},
   "outputs": [
    {
     "data": {
      "text/plain": [
       "<_sre.SRE_Match at 0x64f46b0>"
      ]
     },
     "execution_count": 11,
     "metadata": {},
     "output_type": "execute_result"
    }
   ],
   "source": [
    "re.match(\"Menü\", a)"
   ]
  },
  {
   "cell_type": "code",
   "execution_count": 13,
   "metadata": {},
   "outputs": [
    {
     "data": {
      "text/plain": [
       "True"
      ]
     },
     "execution_count": 13,
     "metadata": {},
     "output_type": "execute_result"
    }
   ],
   "source": [
    "a.startswith(\"M\")"
   ]
  },
  {
   "cell_type": "code",
   "execution_count": 14,
   "metadata": {},
   "outputs": [
    {
     "data": {
      "text/plain": [
       "False"
      ]
     },
     "execution_count": 14,
     "metadata": {},
     "output_type": "execute_result"
    }
   ],
   "source": [
    "a.startswith(\"m\")"
   ]
  },
  {
   "cell_type": "code",
   "execution_count": 15,
   "metadata": {
    "collapsed": true
   },
   "outputs": [],
   "source": [
    "from time import sleep"
   ]
  },
  {
   "cell_type": "code",
   "execution_count": 31,
   "metadata": {
    "scrolled": true
   },
   "outputs": [
    {
     "name": "stdout",
     "output_type": "stream",
     "text": [
      "Yukleniyor . %1\n",
      "Yukleniyor .. %2\n",
      "Yukleniyor ... %3\n",
      "Yukleniyor .... %4\n",
      "Yukleniyor ..... %5\n",
      "Yukleniyor ...... %6\n",
      "Yukleniyor ....... %7\n",
      "Yukleniyor ........ %8\n",
      "Yukleniyor ......... %9\n",
      "Yukleniyor .......... %10\n",
      "Yukleniyor ........... %11\n",
      "Yukleniyor ............ %12\n",
      "Yukleniyor ............. %13\n",
      "Yukleniyor .............. %14\n",
      "Yukleniyor ............... %15\n",
      "Yukleniyor ................ %16\n",
      "Yukleniyor ................. %17\n",
      "Yukleniyor .................. %18\n",
      "Yukleniyor ................... %19\n",
      "Yukleniyor .................... %20\n",
      "Yukleniyor ..................... %21\n",
      "Yukleniyor ...................... %22\n",
      "Yukleniyor ....................... %23\n",
      "Yukleniyor ........................ %24\n",
      "Yukleniyor ......................... %25\n",
      "Yukleniyor .......................... %26\n",
      "Yukleniyor ........................... %27\n",
      "Yukleniyor ............................ %28\n",
      "Yukleniyor ............................. %29\n",
      "Yukleniyor .............................. %30\n",
      "Yukleniyor ............................... %31\n",
      "Yukleniyor ................................ %32\n",
      "Yukleniyor ................................. %33\n",
      "Yukleniyor .................................. %34\n",
      "Yukleniyor ................................... %35\n",
      "Yukleniyor .................................... %36\n",
      "Yukleniyor ..................................... %37\n",
      "Yukleniyor ...................................... %38\n",
      "Yukleniyor ....................................... %39\n",
      "Yukleniyor ........................................ %40\n",
      "Yukleniyor ......................................... %41\n",
      "Yukleniyor .......................................... %42\n",
      "Yukleniyor ........................................... %43\n",
      "Yukleniyor ............................................ %44\n",
      "Yukleniyor ............................................. %45\n",
      "Yukleniyor .............................................. %46\n",
      "Yukleniyor ............................................... %47\n",
      "Yukleniyor ................................................ %48\n",
      "Yukleniyor ................................................. %49\n",
      "Yukleniyor .................................................. %50\n",
      "Yukleniyor ................................................... %51\n",
      "Yukleniyor .................................................... %52\n",
      "Yukleniyor ..................................................... %53\n",
      "Yukleniyor ...................................................... %54\n",
      "Yukleniyor ....................................................... %55\n",
      "Yukleniyor ........................................................ %56\n",
      "Yukleniyor ......................................................... %57\n",
      "Yukleniyor .......................................................... %58\n",
      "Yukleniyor ........................................................... %59\n",
      "Yukleniyor ............................................................ %60\n",
      "Yukleniyor ............................................................. %61\n",
      "Yukleniyor .............................................................. %62\n",
      "Yukleniyor ............................................................... %63\n",
      "Yukleniyor ................................................................ %64\n",
      "Yukleniyor ................................................................. %65\n",
      "Yukleniyor .................................................................. %66\n",
      "Yukleniyor ................................................................... %67\n",
      "Yukleniyor .................................................................... %68\n",
      "Yukleniyor ..................................................................... %69\n",
      "Yukleniyor ...................................................................... %70\n",
      "Yukleniyor ....................................................................... %71\n",
      "Yukleniyor ........................................................................ %72\n",
      "Yukleniyor ......................................................................... %73\n",
      "Yukleniyor .......................................................................... %74\n",
      "Yukleniyor ........................................................................... %75\n",
      "Yukleniyor ............................................................................ %76\n",
      "Yukleniyor ............................................................................. %77\n",
      "Yukleniyor .............................................................................. %78\n",
      "Yukleniyor ............................................................................... %79\n",
      "Yukleniyor ................................................................................ %80\n",
      "Yukleniyor ................................................................................. %81\n",
      "Yukleniyor .................................................................................. %82\n",
      "Yukleniyor ................................................................................... %83\n",
      "Yukleniyor .................................................................................... %84\n",
      "Yukleniyor ..................................................................................... %85\n",
      "Yukleniyor ...................................................................................... %86\n",
      "Yukleniyor ....................................................................................... %87\n",
      "Yukleniyor ........................................................................................ %88\n",
      "Yukleniyor ......................................................................................... %89\n",
      "Yukleniyor .......................................................................................... %90\n",
      "Yukleniyor ........................................................................................... %91\n",
      "Yukleniyor ............................................................................................ %92\n",
      "Yukleniyor ............................................................................................. %93\n",
      "Yukleniyor .............................................................................................. %94\n",
      "Yukleniyor ............................................................................................... %95\n",
      "Yukleniyor ................................................................................................ %96\n",
      "Yukleniyor ................................................................................................. %97\n",
      "Yukleniyor .................................................................................................. %98\n",
      "Yukleniyor ................................................................................................... %99\n",
      "Yukleniyor .................................................................................................... %100\n",
      "Yükleme tamamlandi!\n"
     ]
    }
   ],
   "source": [
    "for i in range(1,101):\n",
    "    print \"Yukleniyor\",i * \".\", \"%%%d\" %i \n",
    "    if i == 100:\n",
    "        print \"Yükleme tamamlandi!\"\n",
    "    sleep(0.1)"
   ]
  },
  {
   "cell_type": "code",
   "execution_count": 32,
   "metadata": {
    "collapsed": true
   },
   "outputs": [],
   "source": [
    "# sayi ile baslayan ogeleri bul!\n",
    "a = [\"23BH56\",\"TY76Z\",\"4Y7UZ\",\"TYUDZ\",\"34534\"]"
   ]
  },
  {
   "cell_type": "code",
   "execution_count": 33,
   "metadata": {},
   "outputs": [
    {
     "name": "stdout",
     "output_type": "stream",
     "text": [
      "23BH56\n",
      "4Y7UZ\n",
      "34534\n"
     ]
    }
   ],
   "source": [
    "for i in a:\n",
    "    if re.match(\"[0-9]\",i):\n",
    "        print i"
   ]
  },
  {
   "cell_type": "code",
   "execution_count": 34,
   "metadata": {
    "collapsed": true
   },
   "outputs": [],
   "source": [
    "# \\ ile metakarakter bulma\n",
    "liste = [\"10$\", \"25€\", \"20$\", \"10TL\", \"25£\"]"
   ]
  },
  {
   "cell_type": "code",
   "execution_count": 35,
   "metadata": {
    "collapsed": true
   },
   "outputs": [],
   "source": [
    "# $ oldugu icin $ operatorunu kullaniyor\n",
    "for i in liste:\n",
    "    if re.match(\"[0-9]+$\",i):\n",
    "        print i"
   ]
  },
  {
   "cell_type": "code",
   "execution_count": 36,
   "metadata": {},
   "outputs": [
    {
     "name": "stdout",
     "output_type": "stream",
     "text": [
      "10$\n",
      "20$\n"
     ]
    }
   ],
   "source": [
    "# \\$ ile kacis karakterini kullanarak fonksiyonu calistirabiliyoruz\n",
    "for i in liste:\n",
    "    if re.match(\"[0-9]+\\$\",i):\n",
    "        print i"
   ]
  },
  {
   "cell_type": "code",
   "execution_count": null,
   "metadata": {
    "scrolled": true
   },
   "outputs": [
    {
     "name": "stdout",
     "output_type": "stream",
     "text": [
      "Bir sayi giriniz: 47\n",
      "Tahmininiz: 47\n",
      "Yukari!\n",
      "Bir sayi giriniz: 85\n",
      "Tahmininiz: 85\n",
      "Asagi!\n",
      "Bir sayi giriniz: 65\n",
      "Tahmininiz: 65\n",
      "Yukari!\n",
      "Bir sayi giriniz: 72\n",
      "Tahmininiz: 72\n",
      "Asagi!\n",
      "Bir sayi giriniz: 67\n",
      "Tahmininiz: 67\n",
      "Yukari!\n",
      "Bir sayi giriniz: 69\n",
      "Tahmininiz: 69\n",
      "Yukari!\n",
      "Bir sayi giriniz: 70\n",
      "Tahmininiz: 70\n",
      "Aklimi mi okuyorsun?!\n",
      "70\n",
      "Kac kerede bildiniz: 7\n",
      "Bir sayi giriniz: 0\n",
      "Tahmininiz: 0\n",
      "Yukari!\n",
      "Bir sayi giriniz: 101\n",
      "Tahmininiz: 101\n",
      "Asagi!\n",
      "Bir sayi giriniz: 150\n",
      "Tahmininiz: 150\n",
      "Asagi!\n"
     ]
    }
   ],
   "source": [
    "# -*- coding: utf-8 -*-\n",
    "#### sayi tahmini\n",
    "\n",
    "import random\n",
    "pc = random.randint(1,100)\n",
    "\n",
    "sayac = 0\n",
    "\n",
    "while True:\n",
    "    \n",
    "    tahmin = input(\"Bir sayi giriniz: \")\n",
    "    print \"Tahmininiz:\", tahmin\n",
    "    if tahmin == pc:\n",
    "        print \"Aklimi mi okuyorsun?!\"\n",
    "        print tahmin\n",
    "        sayac = sayac + 1\n",
    "        print \"Kac kerede bildiniz:\", sayac\n",
    "    elif tahmin - pc > 0:\n",
    "        print \"Asagi!\"\n",
    "        sayac = sayac + 1\n",
    "    elif tahmin - pc < 0:\n",
    "        print \"Yukari!\"\n",
    "        sayac = sayac + 1\n",
    "    else:\n",
    "        break\n",
    "\n",
    "#print sayac\n"
   ]
  },
  {
   "cell_type": "code",
   "execution_count": null,
   "metadata": {
    "collapsed": true
   },
   "outputs": [],
   "source": [
    "# -*- coding: iso-8859-9 -*-\n",
    "#### sayi tahmini\n",
    "\n",
    "import random\n",
    "pc = random.randint(1,100)\n",
    "\n",
    "sayac = 0\n",
    "\n",
    "while True:\n",
    "    \n",
    "    tahmin = input(\"Bir sayi giriniz: \")\n",
    "    print \"Tahmininiz:\", tahmin\n",
    "    if tahmin == pc:\n",
    "        print \"Aklımı mı okuyorsun?!\"\n",
    "        print tahmin\n",
    "        sayac = sayac + 1\n",
    "        print \"Kaç kerede bildiniz:\", sayac\n",
    "    elif tahmin - pc > 0:\n",
    "        print \"Asağı!\"\n",
    "        sayac = sayac + 1\n",
    "    elif tahmin - pc < 0:\n",
    "        print \"Yukarı!\"\n",
    "        sayac = sayac + 1\n",
    "    else:\n",
    "        break\n"
   ]
  },
  {
   "cell_type": "code",
   "execution_count": null,
   "metadata": {
    "collapsed": true
   },
   "outputs": [],
   "source": []
  }
 ],
 "metadata": {
  "kernelspec": {
   "display_name": "Python [conda root]",
   "language": "python",
   "name": "conda-root-py"
  },
  "language_info": {
   "codemirror_mode": {
    "name": "ipython",
    "version": 2
   },
   "file_extension": ".py",
   "mimetype": "text/x-python",
   "name": "python",
   "nbconvert_exporter": "python",
   "pygments_lexer": "ipython2",
   "version": "2.7.14"
  }
 },
 "nbformat": 4,
 "nbformat_minor": 2
}
